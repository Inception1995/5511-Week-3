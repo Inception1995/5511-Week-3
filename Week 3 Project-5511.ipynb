{
 "cells": [
  {
   "cell_type": "markdown",
   "id": "0a45b681-63ea-4a2e-8c54-f9b0a357552b",
   "metadata": {},
   "source": [
    "# Histopathologic Cancer Detection Kaggle Mini-Project\n",
    "\n",
    "### Problem Statement\n",
    "\n",
    "The goal of this project is to develop a binary image classification model to identify metastatic cancer in small 96x96 pixel image patches extracted from larger digital pathology scans, using the Histopathologic Cancer Detection dataset from Kaggle. The task is to classify each image patch as either containing metastatic cancer (label 1) or not (label 0).\n",
    "\n",
    "This is a public dataset found on Kaggle --> https://www.kaggle.com/c/histopathologic-cancer-detection/overview\n",
    "\n",
    "### Data summary (from Kaggle):\n",
    "\"In this competition, you must create an algorithm to identify metastatic cancer in small image patches taken from larger digital pathology scans. The data for this competition is a slightly modified version of the PatchCamelyon (PCam) benchmark dataset (the original PCam dataset contains duplicate images due to its probabilistic sampling, however, the version presented on Kaggle does not contain duplicates).\n",
    "\n",
    "PCam is highly interesting for both its size, simplicity to get started on, and approachability. In the authors' words:\n",
    "\n",
    "[PCam] packs the clinically-relevant task of metastasis detection into a straight-forward binary image classification task, akin to CIFAR-10 and MNIST. Models can easily be trained on a single GPU in a couple hours, and achieve competitive scores in the Camelyon16 tasks of tumor detection and whole-slide image diagnosis. Furthermore, the balance between task-difficulty and tractability makes it a prime suspect for fundamental machine learning research on topics as active learning, model uncertainty, and explainability.\"\n",
    "\n",
    "# Part 1 — Jupyter Notebook"
   ]
  },
  {
   "cell_type": "markdown",
   "id": "477ea156-936b-449a-94d4-10611ef0fdd8",
   "metadata": {},
   "source": [
    "### 1.1 Import Libraries and Set Variables"
   ]
  },
  {
   "cell_type": "code",
   "execution_count": 1,
   "id": "41888672-5f8f-4b65-8cd1-2de86fc9e373",
   "metadata": {},
   "outputs": [],
   "source": [
    "import pandas as pd\n",
    "import numpy as np\n",
    "import matplotlib.pyplot as plt\n",
    "import seaborn as sns\n",
    "import os\n",
    "from PIL import Image\n",
    "from sklearn.model_selection import train_test_split\n",
    "from sklearn.metrics import roc_auc_score, classification_report, confusion_matrix\n",
    "import tensorflow as tf\n",
    "from tensorflow.keras.models import Sequential\n",
    "from tensorflow.keras.layers import Conv2D, MaxPooling2D, Flatten, Dense, Dropout\n",
    "from tensorflow.keras.preprocessing.image import ImageDataGenerator\n",
    "import shutil\n",
    "\n",
    "# Set random seed for reproducibility\n",
    "np.random.seed(42)\n",
    "tf.random.set_seed(42)"
   ]
  },
  {
   "cell_type": "code",
   "execution_count": 2,
   "id": "89e6d58d-d111-44ff-9b02-a9a53052c29b",
   "metadata": {},
   "outputs": [
    {
     "name": "stdout",
     "output_type": "stream",
     "text": [
      "Train labels exists: True\n",
      "Train folder exists: True\n",
      "Test folder exists: True\n",
      "Sample submission exists: True\n",
      "Sample train files: ['00001b2b5609af42ab0ab276dd4cd41c3e7745b5.tif', '000020de2aa6193f4c160e398a8edea95b1da598.tif', '00004aab08381d25d315384d646f5ce413ea24b1.tif', '0000d563d5cfafc4e68acb7c9829258a298d9b6a.tif', '0000da768d06b879e5754c43e2298ce48726f722.tif']\n",
      "Sample test files: ['0000ec92553fda4ce39889f9226ace43cae3364e.tif', '00024a6dee61f12f7856b0fc6be20bc7a48ba3d2.tif', '000253dfaa0be9d0d100283b22284ab2f6b643f6.tif', '000270442cc15af719583a8172c87cd2bd9c7746.tif', '000309e669fa3b18fb0ed6a253a2850cce751a95.tif']\n",
      "Train labels sample: ['f38a6374c348f90b587e046aac6079959adf3835', 'c18f2d887b7ae4f6742ee445113fa1aef383ed77', '755db6279dae599ebb4d39a9123cce439965282d', 'bc3f0c64fb968ff4a8bd33af6971ecae77c75e08', '068aba587a4950175d04c680d38943fd488d6a9d']\n"
     ]
    }
   ],
   "source": [
    "base_path = r\"C:\\Users\\Administrator\\Downloads\"\n",
    "train_labels_path = os.path.join(base_path, \"train_labels.csv\")\n",
    "train_path = os.path.join(base_path, \"train\")\n",
    "test_path = os.path.join(base_path, \"test\")\n",
    "sample_submission_path = os.path.join(base_path, \"sample_submission.csv\")\n",
    "\n",
    "print(\"Train labels exists:\", os.path.exists(train_labels_path))\n",
    "print(\"Train folder exists:\", os.path.exists(train_path))\n",
    "print(\"Test folder exists:\", os.path.exists(test_path))\n",
    "print(\"Sample submission exists:\", os.path.exists(sample_submission_path))\n",
    "print(\"Sample train files:\", os.listdir(train_path)[:5] if os.path.exists(train_path) else \"Folder not found\")\n",
    "print(\"Sample test files:\", os.listdir(test_path)[:5] if os.path.exists(test_path) else \"Folder not found\")\n",
    "print(\"Train labels sample:\", pd.read_csv(train_labels_path)['id'].iloc[:5].tolist() if os.path.exists(train_labels_path) else \"File not found\")"
   ]
  },
  {
   "cell_type": "markdown",
   "id": "7aab614b-f604-424e-827d-20e56804b6cd",
   "metadata": {},
   "source": [
    "### 1.2 Read CSV & Analyze Shape"
   ]
  },
  {
   "cell_type": "code",
   "execution_count": 3,
   "id": "90e819f2-bf10-4c97-aeda-838fbda70caf",
   "metadata": {},
   "outputs": [
    {
     "name": "stdout",
     "output_type": "stream",
     "text": [
      "Checking dataset paths:\n",
      "Train labels exists: True\n",
      "Train folder exists: True\n",
      "Test folder exists: True\n",
      "\n",
      "Train labels shape: (220025, 2)\n",
      "\n",
      "Train labels preview:\n"
     ]
    },
    {
     "data": {
      "text/html": [
       "<div>\n",
       "<style scoped>\n",
       "    .dataframe tbody tr th:only-of-type {\n",
       "        vertical-align: middle;\n",
       "    }\n",
       "\n",
       "    .dataframe tbody tr th {\n",
       "        vertical-align: top;\n",
       "    }\n",
       "\n",
       "    .dataframe thead th {\n",
       "        text-align: right;\n",
       "    }\n",
       "</style>\n",
       "<table border=\"1\" class=\"dataframe\">\n",
       "  <thead>\n",
       "    <tr style=\"text-align: right;\">\n",
       "      <th></th>\n",
       "      <th>id</th>\n",
       "      <th>label</th>\n",
       "    </tr>\n",
       "  </thead>\n",
       "  <tbody>\n",
       "    <tr>\n",
       "      <th>0</th>\n",
       "      <td>f38a6374c348f90b587e046aac6079959adf3835</td>\n",
       "      <td>0</td>\n",
       "    </tr>\n",
       "    <tr>\n",
       "      <th>1</th>\n",
       "      <td>c18f2d887b7ae4f6742ee445113fa1aef383ed77</td>\n",
       "      <td>1</td>\n",
       "    </tr>\n",
       "    <tr>\n",
       "      <th>2</th>\n",
       "      <td>755db6279dae599ebb4d39a9123cce439965282d</td>\n",
       "      <td>0</td>\n",
       "    </tr>\n",
       "    <tr>\n",
       "      <th>3</th>\n",
       "      <td>bc3f0c64fb968ff4a8bd33af6971ecae77c75e08</td>\n",
       "      <td>0</td>\n",
       "    </tr>\n",
       "    <tr>\n",
       "      <th>4</th>\n",
       "      <td>068aba587a4950175d04c680d38943fd488d6a9d</td>\n",
       "      <td>0</td>\n",
       "    </tr>\n",
       "  </tbody>\n",
       "</table>\n",
       "</div>"
      ],
      "text/plain": [
       "                                         id  label\n",
       "0  f38a6374c348f90b587e046aac6079959adf3835      0\n",
       "1  c18f2d887b7ae4f6742ee445113fa1aef383ed77      1\n",
       "2  755db6279dae599ebb4d39a9123cce439965282d      0\n",
       "3  bc3f0c64fb968ff4a8bd33af6971ecae77c75e08      0\n",
       "4  068aba587a4950175d04c680d38943fd488d6a9d      0"
      ]
     },
     "execution_count": 3,
     "metadata": {},
     "output_type": "execute_result"
    }
   ],
   "source": [
    "# Define dataset paths (update these if train/ and test/ folders are in a different location)\n",
    "train_labels_path = os.path.join(base_path, \"train_labels.csv\")\n",
    "train_path = os.path.join(base_path, \"train\")\n",
    "test_path = os.path.join(base_path, \"test\")\n",
    "\n",
    "# Verify paths exist\n",
    "print(\"Checking dataset paths:\")\n",
    "print(\"Train labels exists:\", os.path.exists(train_labels_path))\n",
    "print(\"Train folder exists:\", os.path.exists(train_path))\n",
    "print(\"Test folder exists:\", os.path.exists(test_path))\n",
    "\n",
    "# Load labels\n",
    "train_labels = pd.read_csv(train_labels_path)\n",
    "print(\"\\nTrain labels shape:\", train_labels.shape)\n",
    "print(\"\\nTrain labels preview:\")\n",
    "train_labels.head()"
   ]
  },
  {
   "cell_type": "markdown",
   "id": "b0271f4b-b757-4cb4-85dc-a9a66f3fc271",
   "metadata": {},
   "source": [
    "### 1.3 Preview the Data"
   ]
  },
  {
   "cell_type": "code",
   "execution_count": 4,
   "id": "267c2945-ce52-4f35-aa74-a6aba6ebee3c",
   "metadata": {},
   "outputs": [
    {
     "name": "stdout",
     "output_type": "stream",
     "text": [
      "\n",
      "Null values in train labels: id       0\n",
      "label    0\n",
      "dtype: int64\n",
      "Duplicates in train labels: 0\n",
      "\n",
      "Label distribution:\n",
      "label\n",
      "0    130908\n",
      "1     89117\n",
      "Name: count, dtype: int64\n"
     ]
    },
    {
     "data": {
      "image/png": "[encoded data removed]",
      "text/plain": [
       "<Figure size 640x480 with 1 Axes>"
      ]
     },
     "metadata": {},
     "output_type": "display_data"
    }
   ],
   "source": [
    "# Check for null values\n",
    "print(\"\\nNull values in train labels:\", train_labels.isnull().sum())\n",
    "\n",
    "# Check for duplicates\n",
    "print(\"Duplicates in train labels:\", train_labels.duplicated().sum())\n",
    "\n",
    "# Check label distribution\n",
    "print(\"\\nLabel distribution:\")\n",
    "print(train_labels['label'].value_counts())\n",
    "\n",
    "# Visualize label distribution\n",
    "sns.countplot(x='label', data=train_labels)\n",
    "plt.title(\"Label Distribution (0 = No Cancer, 1 = Cancer)\")\n",
    "plt.show()"
   ]
  },
  {
   "cell_type": "markdown",
   "id": "0fed5cc5-b146-462e-b9e6-648b363fd95f",
   "metadata": {},
   "source": [
    "## 1.4 Data Cleaning\n",
    "\n",
    "- Drop duplicates\n",
    "- Ensure text is string\n",
    "- Lowercasing to ensure string format is the same\n"
   ]
  },
  {
   "cell_type": "code",
   "execution_count": 5,
   "id": "6724069d-360e-4977-b0d9-f7ca6cd8d43c",
   "metadata": {},
   "outputs": [],
   "source": [
    "# Remove duplicates (if any)\n",
    "train_labels = train_labels.drop_duplicates(subset='id', keep='first')\n",
    "# Clean id column\n",
    "train_labels['id'] = train_labels['id'].str.replace(r'\\.tif\\.t.*$', '.tif', regex=True)\n",
    "train_labels['id'] = train_labels['id'].apply(lambda x: f\"{x}.tif\" if not x.endswith('.tif') else x)\n",
    "train_labels['label'] = train_labels['label'].astype(str)  # Convert labels to strings\n",
    "\n",
    "# Add .tif extension to image IDs\n",
    "train_labels['id'] = train_labels['id'].apply(lambda x: f\"{x}.tif\")\n",
    "\n",
    "# This converts 0 to '0' and 1 to '1', preventing an error in 1.6\n",
    "train_labels['label'] = train_labels['label'].astype(str)"
   ]
  },
  {
   "cell_type": "markdown",
   "id": "7fedafcc-3768-4580-bf63-254d271e6342",
   "metadata": {},
   "source": [
    "### 1.5 Visual EDA (Exploratory Data Analysis)"
   ]
  },
  {
   "cell_type": "code",
   "execution_count": 6,
   "id": "79ab6919-40ba-4a26-991b-48c4ec816dc6",
   "metadata": {
    "scrolled": true
   },
   "outputs": [
    {
     "name": "stdout",
     "output_type": "stream",
     "text": [
      "Warning: Image 2608d94040fb3f19547ed574627fe94890f8f2da.tif.tif not found at C:\\Users\\Administrator\\Downloads\\train\\2608d94040fb3f19547ed574627fe94890f8f2da.tif.tif\n",
      "Warning: Image 684b09ddbcb8621a1a50087ae0de9d580c53a817.tif.tif not found at C:\\Users\\Administrator\\Downloads\\train\\684b09ddbcb8621a1a50087ae0de9d580c53a817.tif.tif\n",
      "Warning: Image 9238d3b47205fc9288be41d2d11a431d453a9092.tif.tif not found at C:\\Users\\Administrator\\Downloads\\train\\9238d3b47205fc9288be41d2d11a431d453a9092.tif.tif\n",
      "Warning: Image 7b47608ea3a477d79bb14d28e3a1a305d6fab3d7.tif.tif not found at C:\\Users\\Administrator\\Downloads\\train\\7b47608ea3a477d79bb14d28e3a1a305d6fab3d7.tif.tif\n",
      "Warning: Image 9ac544a1296fa3a238dd9b7e2968aea3c80f2d22.tif.tif not found at C:\\Users\\Administrator\\Downloads\\train\\9ac544a1296fa3a238dd9b7e2968aea3c80f2d22.tif.tif\n",
      "Warning: Image baf165e67e4896774bd6b8babc0ed44605774445.tif.tif not found at C:\\Users\\Administrator\\Downloads\\train\\baf165e67e4896774bd6b8babc0ed44605774445.tif.tif\n",
      "Warning: Image ff2a7663c2239e1006e91312db4a09d3de55b3eb.tif.tif not found at C:\\Users\\Administrator\\Downloads\\train\\ff2a7663c2239e1006e91312db4a09d3de55b3eb.tif.tif\n",
      "Warning: Image c3f01c1326e8ed99958b3124e6582edb4150e060.tif.tif not found at C:\\Users\\Administrator\\Downloads\\train\\c3f01c1326e8ed99958b3124e6582edb4150e060.tif.tif\n",
      "Warning: Image 4608a63d24dba910761a6a15fe9688f5866d88d5.tif.tif not found at C:\\Users\\Administrator\\Downloads\\train\\4608a63d24dba910761a6a15fe9688f5866d88d5.tif.tif\n",
      "Warning: Image 90d503cd299d2f410840ca165d6fe1462c675fa2.tif.tif not found at C:\\Users\\Administrator\\Downloads\\train\\90d503cd299d2f410840ca165d6fe1462c675fa2.tif.tif\n"
     ]
    },
    {
     "data": {
      "image/png": "[encoded data removed]",
      "text/plain": [
       "<Figure size 1500x600 with 10 Axes>"
      ]
     },
     "metadata": {},
     "output_type": "display_data"
    },
    {
     "name": "stdout",
     "output_type": "stream",
     "text": [
      "Warning: Image 2608d94040fb3f19547ed574627fe94890f8f2da.tif.tif not found at C:\\Users\\Administrator\\Downloads\\train\\2608d94040fb3f19547ed574627fe94890f8f2da.tif.tif\n",
      "Warning: Image 684b09ddbcb8621a1a50087ae0de9d580c53a817.tif.tif not found at C:\\Users\\Administrator\\Downloads\\train\\684b09ddbcb8621a1a50087ae0de9d580c53a817.tif.tif\n",
      "Warning: Image 9238d3b47205fc9288be41d2d11a431d453a9092.tif.tif not found at C:\\Users\\Administrator\\Downloads\\train\\9238d3b47205fc9288be41d2d11a431d453a9092.tif.tif\n",
      "Warning: Image 7b47608ea3a477d79bb14d28e3a1a305d6fab3d7.tif.tif not found at C:\\Users\\Administrator\\Downloads\\train\\7b47608ea3a477d79bb14d28e3a1a305d6fab3d7.tif.tif\n",
      "Warning: Image 9ac544a1296fa3a238dd9b7e2968aea3c80f2d22.tif.tif not found at C:\\Users\\Administrator\\Downloads\\train\\9ac544a1296fa3a238dd9b7e2968aea3c80f2d22.tif.tif\n",
      "Warning: Image 732b55928f75862c8ff7df24dbbf5d4ea114ba7f.tif.tif not found at C:\\Users\\Administrator\\Downloads\\train\\732b55928f75862c8ff7df24dbbf5d4ea114ba7f.tif.tif\n",
      "Warning: Image 11fd9ab055c66a3041ac10ec07707a02339d8b23.tif.tif not found at C:\\Users\\Administrator\\Downloads\\train\\11fd9ab055c66a3041ac10ec07707a02339d8b23.tif.tif\n",
      "Warning: Image b6c29fddde85ee5171e6f02fb9e2ecf774476e24.tif.tif not found at C:\\Users\\Administrator\\Downloads\\train\\b6c29fddde85ee5171e6f02fb9e2ecf774476e24.tif.tif\n",
      "Warning: Image 2963421a857b7f9ee7c4f4cf78d62654a9f2c730.tif.tif not found at C:\\Users\\Administrator\\Downloads\\train\\2963421a857b7f9ee7c4f4cf78d62654a9f2c730.tif.tif\n",
      "Warning: Image d7fd855a66e80bf65bea35ff1e52124110c33fa0.tif.tif not found at C:\\Users\\Administrator\\Downloads\\train\\d7fd855a66e80bf65bea35ff1e52124110c33fa0.tif.tif\n",
      "Warning: Image 1a79433244a3a3b0c9486033ed5d938d2ef2d66e.tif.tif not found at C:\\Users\\Administrator\\Downloads\\train\\1a79433244a3a3b0c9486033ed5d938d2ef2d66e.tif.tif\n",
      "Warning: Image f7e7476a4cad3e497a67a5c6f9717e7c5cba0a57.tif.tif not found at C:\\Users\\Administrator\\Downloads\\train\\f7e7476a4cad3e497a67a5c6f9717e7c5cba0a57.tif.tif\n",
      "Warning: Image b70c7eb7631d2beabef7675ec463b88206c609e9.tif.tif not found at C:\\Users\\Administrator\\Downloads\\train\\b70c7eb7631d2beabef7675ec463b88206c609e9.tif.tif\n",
      "Warning: Image 58b687c7f3717b844ae97285bc7c7d4b431a8d79.tif.tif not found at C:\\Users\\Administrator\\Downloads\\train\\58b687c7f3717b844ae97285bc7c7d4b431a8d79.tif.tif\n",
      "Warning: Image 4743d4fb5396701ec27f4c667b7399800dc13c00.tif.tif not found at C:\\Users\\Administrator\\Downloads\\train\\4743d4fb5396701ec27f4c667b7399800dc13c00.tif.tif\n",
      "Warning: Image bd7b08757c85f6653e9be25c53dc694c0f605762.tif.tif not found at C:\\Users\\Administrator\\Downloads\\train\\bd7b08757c85f6653e9be25c53dc694c0f605762.tif.tif\n",
      "Warning: Image 9ba7dace36b1385ac910b8dca4ea5655271488ab.tif.tif not found at C:\\Users\\Administrator\\Downloads\\train\\9ba7dace36b1385ac910b8dca4ea5655271488ab.tif.tif\n",
      "Warning: Image 2179a4b5a854e335e6067fc5ab49cf848e29e442.tif.tif not found at C:\\Users\\Administrator\\Downloads\\train\\2179a4b5a854e335e6067fc5ab49cf848e29e442.tif.tif\n",
      "Warning: Image f8d3d89ed1e3401181fb52044542ee48535c4762.tif.tif not found at C:\\Users\\Administrator\\Downloads\\train\\f8d3d89ed1e3401181fb52044542ee48535c4762.tif.tif\n",
      "Warning: Image 91d63595065e38b918804bff3338a78b9980b05b.tif.tif not found at C:\\Users\\Administrator\\Downloads\\train\\91d63595065e38b918804bff3338a78b9980b05b.tif.tif\n",
      "Warning: Image d292c35ecac5ced4498a901843f0357db9e7033b.tif.tif not found at C:\\Users\\Administrator\\Downloads\\train\\d292c35ecac5ced4498a901843f0357db9e7033b.tif.tif\n",
      "Warning: Image 60b06d0e3aec83afedc7edd7a80a79869d7537bb.tif.tif not found at C:\\Users\\Administrator\\Downloads\\train\\60b06d0e3aec83afedc7edd7a80a79869d7537bb.tif.tif\n",
      "Warning: Image 325844041d0e9f2a7cde0b2a2c05128175a240ff.tif.tif not found at C:\\Users\\Administrator\\Downloads\\train\\325844041d0e9f2a7cde0b2a2c05128175a240ff.tif.tif\n",
      "Warning: Image c704ee1e14c33f58f7163acf28337648d2b57147.tif.tif not found at C:\\Users\\Administrator\\Downloads\\train\\c704ee1e14c33f58f7163acf28337648d2b57147.tif.tif\n",
      "Warning: Image f5048997613c5ae187eec061a511313de5311564.tif.tif not found at C:\\Users\\Administrator\\Downloads\\train\\f5048997613c5ae187eec061a511313de5311564.tif.tif\n",
      "Warning: Image 57b7c5e5603fcad5a992f5762d2a0641f296ba29.tif.tif not found at C:\\Users\\Administrator\\Downloads\\train\\57b7c5e5603fcad5a992f5762d2a0641f296ba29.tif.tif\n",
      "Warning: Image 9a86669706b89efdd8c3398676c557b7cfda739e.tif.tif not found at C:\\Users\\Administrator\\Downloads\\train\\9a86669706b89efdd8c3398676c557b7cfda739e.tif.tif\n",
      "Warning: Image a076ab2fa14b78d972b78ab404e9a1ce611c8d03.tif.tif not found at C:\\Users\\Administrator\\Downloads\\train\\a076ab2fa14b78d972b78ab404e9a1ce611c8d03.tif.tif\n",
      "Warning: Image 254b355c6c7a337b5cea287479b89ebdda53a18b.tif.tif not found at C:\\Users\\Administrator\\Downloads\\train\\254b355c6c7a337b5cea287479b89ebdda53a18b.tif.tif\n",
      "Warning: Image 7cbbe5df09f62c9c2822a812ecb84a085395280c.tif.tif not found at C:\\Users\\Administrator\\Downloads\\train\\7cbbe5df09f62c9c2822a812ecb84a085395280c.tif.tif\n",
      "Warning: Image ecf74cb3f4b73ae3bca55bb9b43048f0433298f0.tif.tif not found at C:\\Users\\Administrator\\Downloads\\train\\ecf74cb3f4b73ae3bca55bb9b43048f0433298f0.tif.tif\n",
      "Warning: Image 02fdc2a23941676ccd9c0da556e59ae353641e61.tif.tif not found at C:\\Users\\Administrator\\Downloads\\train\\02fdc2a23941676ccd9c0da556e59ae353641e61.tif.tif\n",
      "Warning: Image 039056ad15a16aa605e8d0866a40311c1d0dc419.tif.tif not found at C:\\Users\\Administrator\\Downloads\\train\\039056ad15a16aa605e8d0866a40311c1d0dc419.tif.tif\n",
      "Warning: Image 9b1498c1938f3d4d36673ffdbd784ea8a5ac9238.tif.tif not found at C:\\Users\\Administrator\\Downloads\\train\\9b1498c1938f3d4d36673ffdbd784ea8a5ac9238.tif.tif\n",
      "Warning: Image 9f4c65520d29178fcfc43fbdf12c160301b368ab.tif.tif not found at C:\\Users\\Administrator\\Downloads\\train\\9f4c65520d29178fcfc43fbdf12c160301b368ab.tif.tif\n",
      "Warning: Image 47caa39b1630ecadb52913d8cf383c989faa275d.tif.tif not found at C:\\Users\\Administrator\\Downloads\\train\\47caa39b1630ecadb52913d8cf383c989faa275d.tif.tif\n",
      "Warning: Image 8da0fc0665750b32dfbc43148f3798c59e82baef.tif.tif not found at C:\\Users\\Administrator\\Downloads\\train\\8da0fc0665750b32dfbc43148f3798c59e82baef.tif.tif\n",
      "Warning: Image 3d4d170eb517c9aa6e48b9b7670db2ed4a98e1b6.tif.tif not found at C:\\Users\\Administrator\\Downloads\\train\\3d4d170eb517c9aa6e48b9b7670db2ed4a98e1b6.tif.tif\n",
      "Warning: Image bba6c4a409f582bd33362bd8bf3f3fcd51971592.tif.tif not found at C:\\Users\\Administrator\\Downloads\\train\\bba6c4a409f582bd33362bd8bf3f3fcd51971592.tif.tif\n",
      "Warning: Image 93d4e564534a1d85ea63f249a60bbea451fa04dc.tif.tif not found at C:\\Users\\Administrator\\Downloads\\train\\93d4e564534a1d85ea63f249a60bbea451fa04dc.tif.tif\n",
      "Warning: Image 3ab445ca9453e93bc042d085a9513d8d040ae5d2.tif.tif not found at C:\\Users\\Administrator\\Downloads\\train\\3ab445ca9453e93bc042d085a9513d8d040ae5d2.tif.tif\n",
      "Warning: Image 842c020de6eecfe3a036d70c873f8111befd9159.tif.tif not found at C:\\Users\\Administrator\\Downloads\\train\\842c020de6eecfe3a036d70c873f8111befd9159.tif.tif\n",
      "Warning: Image 7aab0ec5b36e0027454a3c847944eaea7301532e.tif.tif not found at C:\\Users\\Administrator\\Downloads\\train\\7aab0ec5b36e0027454a3c847944eaea7301532e.tif.tif\n",
      "Warning: Image 5a37d1e1d232420a6491b7cccd3e1ab1afce47ef.tif.tif not found at C:\\Users\\Administrator\\Downloads\\train\\5a37d1e1d232420a6491b7cccd3e1ab1afce47ef.tif.tif\n",
      "Warning: Image 2be9d89b6322c5efe8e072bcd25bb89be91d7e21.tif.tif not found at C:\\Users\\Administrator\\Downloads\\train\\2be9d89b6322c5efe8e072bcd25bb89be91d7e21.tif.tif\n",
      "Warning: Image f32cd66fbb31f875ad10bf6316c5d13b432470eb.tif.tif not found at C:\\Users\\Administrator\\Downloads\\train\\f32cd66fbb31f875ad10bf6316c5d13b432470eb.tif.tif\n",
      "Warning: Image 93066eddc3b674a8d4d10da4ed378a92e97d5884.tif.tif not found at C:\\Users\\Administrator\\Downloads\\train\\93066eddc3b674a8d4d10da4ed378a92e97d5884.tif.tif\n",
      "Warning: Image 0ea2ef1f167d18b4a38693cb9e877b095571964e.tif.tif not found at C:\\Users\\Administrator\\Downloads\\train\\0ea2ef1f167d18b4a38693cb9e877b095571964e.tif.tif\n",
      "Warning: Image e7f365503f4a09ed235b18039551a889ef206feb.tif.tif not found at C:\\Users\\Administrator\\Downloads\\train\\e7f365503f4a09ed235b18039551a889ef206feb.tif.tif\n",
      "Warning: Image 59c4ad4468611b51321b0bcc89d22186e4b34b5e.tif.tif not found at C:\\Users\\Administrator\\Downloads\\train\\59c4ad4468611b51321b0bcc89d22186e4b34b5e.tif.tif\n",
      "Warning: Image 449e0fb08ee632afba704f16c29fc710e64268b2.tif.tif not found at C:\\Users\\Administrator\\Downloads\\train\\449e0fb08ee632afba704f16c29fc710e64268b2.tif.tif\n",
      "Warning: Image 40933415e24530f58c9e86bfb7d1de2796c7f4e5.tif.tif not found at C:\\Users\\Administrator\\Downloads\\train\\40933415e24530f58c9e86bfb7d1de2796c7f4e5.tif.tif\n",
      "Warning: Image e1be323246784030188e26ede0289d6e89c8b854.tif.tif not found at C:\\Users\\Administrator\\Downloads\\train\\e1be323246784030188e26ede0289d6e89c8b854.tif.tif\n",
      "Warning: Image bbe1230fd4c4efc476b95f99b3179098f7c0efa7.tif.tif not found at C:\\Users\\Administrator\\Downloads\\train\\bbe1230fd4c4efc476b95f99b3179098f7c0efa7.tif.tif\n",
      "Warning: Image 467a76805f3c40f51f528a263c2add9480c72918.tif.tif not found at C:\\Users\\Administrator\\Downloads\\train\\467a76805f3c40f51f528a263c2add9480c72918.tif.tif\n",
      "Warning: Image e8b065c77f51ac6d027d7df7c83dd1d7657cc42c.tif.tif not found at C:\\Users\\Administrator\\Downloads\\train\\e8b065c77f51ac6d027d7df7c83dd1d7657cc42c.tif.tif\n",
      "Warning: Image 4f66e73e391d7a97a7cbbd126e71a42ee9bc751b.tif.tif not found at C:\\Users\\Administrator\\Downloads\\train\\4f66e73e391d7a97a7cbbd126e71a42ee9bc751b.tif.tif\n",
      "Warning: Image 9acfe11d600326f462e5b9a688306925e2ea0d58.tif.tif not found at C:\\Users\\Administrator\\Downloads\\train\\9acfe11d600326f462e5b9a688306925e2ea0d58.tif.tif\n",
      "Warning: Image d6bf2bdf125ca2eee44a61229dbd4221fcc7d6f0.tif.tif not found at C:\\Users\\Administrator\\Downloads\\train\\d6bf2bdf125ca2eee44a61229dbd4221fcc7d6f0.tif.tif\n",
      "Warning: Image c66e9d8e3f9cdcd6b55931204abca1001b62decc.tif.tif not found at C:\\Users\\Administrator\\Downloads\\train\\c66e9d8e3f9cdcd6b55931204abca1001b62decc.tif.tif\n",
      "Warning: Image 36cd354425450ff4c70d0316ce9f9b081cec43cc.tif.tif not found at C:\\Users\\Administrator\\Downloads\\train\\36cd354425450ff4c70d0316ce9f9b081cec43cc.tif.tif\n",
      "Warning: Image cbc84d184a7226ce178c67b8dbed708d4e4656e0.tif.tif not found at C:\\Users\\Administrator\\Downloads\\train\\cbc84d184a7226ce178c67b8dbed708d4e4656e0.tif.tif\n",
      "Warning: Image 2fa1e07c0705cbca776308543253660fe35eb55a.tif.tif not found at C:\\Users\\Administrator\\Downloads\\train\\2fa1e07c0705cbca776308543253660fe35eb55a.tif.tif\n",
      "Warning: Image 090d04dad378cfaaa6fe54e4159a7901a97a6ded.tif.tif not found at C:\\Users\\Administrator\\Downloads\\train\\090d04dad378cfaaa6fe54e4159a7901a97a6ded.tif.tif\n",
      "Warning: Image 61faae2e3cfda64e6ff19cc165af75bf03741042.tif.tif not found at C:\\Users\\Administrator\\Downloads\\train\\61faae2e3cfda64e6ff19cc165af75bf03741042.tif.tif\n",
      "Warning: Image 09aba4158644b03a2a2f99fc503b556599a9e7de.tif.tif not found at C:\\Users\\Administrator\\Downloads\\train\\09aba4158644b03a2a2f99fc503b556599a9e7de.tif.tif\n",
      "Warning: Image df365ca8223414ae3aa660724b98159ec530cfec.tif.tif not found at C:\\Users\\Administrator\\Downloads\\train\\df365ca8223414ae3aa660724b98159ec530cfec.tif.tif\n",
      "Warning: Image 61aaafaf15d7a25ef91c5bc2494019dec1e1bd51.tif.tif not found at C:\\Users\\Administrator\\Downloads\\train\\61aaafaf15d7a25ef91c5bc2494019dec1e1bd51.tif.tif\n",
      "Warning: Image 9611b1c74ed3b3989949ac1f5c40cdc0827dcb13.tif.tif not found at C:\\Users\\Administrator\\Downloads\\train\\9611b1c74ed3b3989949ac1f5c40cdc0827dcb13.tif.tif\n",
      "Warning: Image e5aeda6608c355abc7c60f7ffe8bd724043e782b.tif.tif not found at C:\\Users\\Administrator\\Downloads\\train\\e5aeda6608c355abc7c60f7ffe8bd724043e782b.tif.tif\n",
      "Warning: Image 012e8cc3564340b1ed5137c9d34433f698072f88.tif.tif not found at C:\\Users\\Administrator\\Downloads\\train\\012e8cc3564340b1ed5137c9d34433f698072f88.tif.tif\n",
      "Warning: Image 6c93a7dc2fd8973beceab1f0dd21d60e06e08fb3.tif.tif not found at C:\\Users\\Administrator\\Downloads\\train\\6c93a7dc2fd8973beceab1f0dd21d60e06e08fb3.tif.tif\n",
      "Warning: Image 6184e6502851024d174803d9aa44492aad89c453.tif.tif not found at C:\\Users\\Administrator\\Downloads\\train\\6184e6502851024d174803d9aa44492aad89c453.tif.tif\n",
      "Warning: Image edea5eafffea6df61331016cf1e56574dc2998c8.tif.tif not found at C:\\Users\\Administrator\\Downloads\\train\\edea5eafffea6df61331016cf1e56574dc2998c8.tif.tif\n",
      "Warning: Image 13ec0657915e372c9037cfcce41a7a98689f0739.tif.tif not found at C:\\Users\\Administrator\\Downloads\\train\\13ec0657915e372c9037cfcce41a7a98689f0739.tif.tif\n",
      "Warning: Image 2bc27c2092d2b49bc84deae04d77ca8b80610319.tif.tif not found at C:\\Users\\Administrator\\Downloads\\train\\2bc27c2092d2b49bc84deae04d77ca8b80610319.tif.tif\n",
      "Warning: Image 394568b4e60e32776cf1939f23b73d639d106076.tif.tif not found at C:\\Users\\Administrator\\Downloads\\train\\394568b4e60e32776cf1939f23b73d639d106076.tif.tif\n",
      "Warning: Image dfb36095bc87def07b8f8a35a367882e954ebdfc.tif.tif not found at C:\\Users\\Administrator\\Downloads\\train\\dfb36095bc87def07b8f8a35a367882e954ebdfc.tif.tif\n",
      "Warning: Image 77ead698bc15b544516c1fdca1267b8ad36d4726.tif.tif not found at C:\\Users\\Administrator\\Downloads\\train\\77ead698bc15b544516c1fdca1267b8ad36d4726.tif.tif\n",
      "Warning: Image b17a250395c51e43dc175ccc67e1203325437d4d.tif.tif not found at C:\\Users\\Administrator\\Downloads\\train\\b17a250395c51e43dc175ccc67e1203325437d4d.tif.tif\n",
      "Warning: Image db6ce9d760533f13edf75cd5f675adf33e041ef9.tif.tif not found at C:\\Users\\Administrator\\Downloads\\train\\db6ce9d760533f13edf75cd5f675adf33e041ef9.tif.tif\n",
      "Warning: Image 7e461748cfd5b5cba37e5fba7ef8962625168158.tif.tif not found at C:\\Users\\Administrator\\Downloads\\train\\7e461748cfd5b5cba37e5fba7ef8962625168158.tif.tif\n",
      "Warning: Image 281645f342d6e7d4692f1f130754becdf594d36a.tif.tif not found at C:\\Users\\Administrator\\Downloads\\train\\281645f342d6e7d4692f1f130754becdf594d36a.tif.tif\n",
      "Warning: Image 533b1379f45750a50c3f832b732815426b5afaff.tif.tif not found at C:\\Users\\Administrator\\Downloads\\train\\533b1379f45750a50c3f832b732815426b5afaff.tif.tif\n",
      "Warning: Image e61b10b0ad86adc7069e182b8c2182e53ba9b7e4.tif.tif not found at C:\\Users\\Administrator\\Downloads\\train\\e61b10b0ad86adc7069e182b8c2182e53ba9b7e4.tif.tif\n",
      "Warning: Image 757bfab2473a8154b80e5d9e68b2d1d245359851.tif.tif not found at C:\\Users\\Administrator\\Downloads\\train\\757bfab2473a8154b80e5d9e68b2d1d245359851.tif.tif\n",
      "Warning: Image ec12728cabb957a8880e9cd1dd22d258d827d8f6.tif.tif not found at C:\\Users\\Administrator\\Downloads\\train\\ec12728cabb957a8880e9cd1dd22d258d827d8f6.tif.tif\n",
      "Warning: Image a1f2245b73bbb285141aeca565472b1645222894.tif.tif not found at C:\\Users\\Administrator\\Downloads\\train\\a1f2245b73bbb285141aeca565472b1645222894.tif.tif\n",
      "Warning: Image f0196dc11913d92ccc78b59c4a815838d3848711.tif.tif not found at C:\\Users\\Administrator\\Downloads\\train\\f0196dc11913d92ccc78b59c4a815838d3848711.tif.tif\n",
      "Warning: Image d960930f8ca1096dea249109bd520a312d38514b.tif.tif not found at C:\\Users\\Administrator\\Downloads\\train\\d960930f8ca1096dea249109bd520a312d38514b.tif.tif\n",
      "Warning: Image 5c6ee8bdc138c531d0241ab31d861d6aa1b979f0.tif.tif not found at C:\\Users\\Administrator\\Downloads\\train\\5c6ee8bdc138c531d0241ab31d861d6aa1b979f0.tif.tif\n",
      "Warning: Image 5aa3b5144656925aff3e397f4918bff53bf550b2.tif.tif not found at C:\\Users\\Administrator\\Downloads\\train\\5aa3b5144656925aff3e397f4918bff53bf550b2.tif.tif\n",
      "Warning: Image a95c56adb557d3762f83f05d6453aa959fb92629.tif.tif not found at C:\\Users\\Administrator\\Downloads\\train\\a95c56adb557d3762f83f05d6453aa959fb92629.tif.tif\n",
      "Warning: Image 66f9c62bdbc6cf39f3ad28240569c25f1f82c6e0.tif.tif not found at C:\\Users\\Administrator\\Downloads\\train\\66f9c62bdbc6cf39f3ad28240569c25f1f82c6e0.tif.tif\n",
      "Warning: Image a4ce2afbfe62dec24f1dcb09ff12259f9f6a0284.tif.tif not found at C:\\Users\\Administrator\\Downloads\\train\\a4ce2afbfe62dec24f1dcb09ff12259f9f6a0284.tif.tif\n",
      "Warning: Image 72b71f64d1a56164963bd7001d121f40dff4094a.tif.tif not found at C:\\Users\\Administrator\\Downloads\\train\\72b71f64d1a56164963bd7001d121f40dff4094a.tif.tif\n",
      "Warning: Image 5e85ec45dbf7ecacac9d576c9b849ae9c1288d99.tif.tif not found at C:\\Users\\Administrator\\Downloads\\train\\5e85ec45dbf7ecacac9d576c9b849ae9c1288d99.tif.tif\n",
      "Warning: Image 95cf90563b96bae3d9ee37bf93f7e820fb3b50a5.tif.tif not found at C:\\Users\\Administrator\\Downloads\\train\\95cf90563b96bae3d9ee37bf93f7e820fb3b50a5.tif.tif\n",
      "Warning: Image 6ee9bed5726363e6cf4c155a129d70b3409978de.tif.tif not found at C:\\Users\\Administrator\\Downloads\\train\\6ee9bed5726363e6cf4c155a129d70b3409978de.tif.tif\n",
      "Warning: Image 2edc90fc9087aaafeaea7b3d3fbdd61590b8ece9.tif.tif not found at C:\\Users\\Administrator\\Downloads\\train\\2edc90fc9087aaafeaea7b3d3fbdd61590b8ece9.tif.tif\n",
      "No valid images found for label 0\n",
      "Warning: Image baf165e67e4896774bd6b8babc0ed44605774445.tif.tif not found at C:\\Users\\Administrator\\Downloads\\train\\baf165e67e4896774bd6b8babc0ed44605774445.tif.tif\n",
      "Warning: Image ff2a7663c2239e1006e91312db4a09d3de55b3eb.tif.tif not found at C:\\Users\\Administrator\\Downloads\\train\\ff2a7663c2239e1006e91312db4a09d3de55b3eb.tif.tif\n",
      "Warning: Image c3f01c1326e8ed99958b3124e6582edb4150e060.tif.tif not found at C:\\Users\\Administrator\\Downloads\\train\\c3f01c1326e8ed99958b3124e6582edb4150e060.tif.tif\n",
      "Warning: Image 4608a63d24dba910761a6a15fe9688f5866d88d5.tif.tif not found at C:\\Users\\Administrator\\Downloads\\train\\4608a63d24dba910761a6a15fe9688f5866d88d5.tif.tif\n",
      "Warning: Image 90d503cd299d2f410840ca165d6fe1462c675fa2.tif.tif not found at C:\\Users\\Administrator\\Downloads\\train\\90d503cd299d2f410840ca165d6fe1462c675fa2.tif.tif\n",
      "Warning: Image e4ad0d04cec9729de7547d2c5910b9e0942ab796.tif.tif not found at C:\\Users\\Administrator\\Downloads\\train\\e4ad0d04cec9729de7547d2c5910b9e0942ab796.tif.tif\n",
      "Warning: Image 65652e669ca24c3f0587a45b8dea844c7dece3ae.tif.tif not found at C:\\Users\\Administrator\\Downloads\\train\\65652e669ca24c3f0587a45b8dea844c7dece3ae.tif.tif\n",
      "Warning: Image b8d24bedf9e0e5488d6fea4819cbee852d47fcfa.tif.tif not found at C:\\Users\\Administrator\\Downloads\\train\\b8d24bedf9e0e5488d6fea4819cbee852d47fcfa.tif.tif\n",
      "Warning: Image 600de5f84031ff260120612392ce251fe4b07d1d.tif.tif not found at C:\\Users\\Administrator\\Downloads\\train\\600de5f84031ff260120612392ce251fe4b07d1d.tif.tif\n",
      "Warning: Image 348bac69446b14431a5b0996327e7dd2d9374dec.tif.tif not found at C:\\Users\\Administrator\\Downloads\\train\\348bac69446b14431a5b0996327e7dd2d9374dec.tif.tif\n",
      "Warning: Image f44f46dc71633bd26ef4fedff204a56ee2b60bb8.tif.tif not found at C:\\Users\\Administrator\\Downloads\\train\\f44f46dc71633bd26ef4fedff204a56ee2b60bb8.tif.tif\n",
      "Warning: Image b5bb7ba20d904b5d73b50dd64d9a13128f32c0a4.tif.tif not found at C:\\Users\\Administrator\\Downloads\\train\\b5bb7ba20d904b5d73b50dd64d9a13128f32c0a4.tif.tif\n",
      "Warning: Image 6bd42f70ee9276b823eee243a030e3c5915d927b.tif.tif not found at C:\\Users\\Administrator\\Downloads\\train\\6bd42f70ee9276b823eee243a030e3c5915d927b.tif.tif\n",
      "Warning: Image 5c30eb90d4d74cd12e7d26ec95f795a19b756d9a.tif.tif not found at C:\\Users\\Administrator\\Downloads\\train\\5c30eb90d4d74cd12e7d26ec95f795a19b756d9a.tif.tif\n",
      "Warning: Image 68397bdfbb9b3154b9c92907d25bd122ac8f17fe.tif.tif not found at C:\\Users\\Administrator\\Downloads\\train\\68397bdfbb9b3154b9c92907d25bd122ac8f17fe.tif.tif\n",
      "Warning: Image 5c7341166049f2b4f6f06f600deaddcdfa0334ec.tif.tif not found at C:\\Users\\Administrator\\Downloads\\train\\5c7341166049f2b4f6f06f600deaddcdfa0334ec.tif.tif\n",
      "Warning: Image 666cee3fb84621e13fb7f660fa794d5f1cd45715.tif.tif not found at C:\\Users\\Administrator\\Downloads\\train\\666cee3fb84621e13fb7f660fa794d5f1cd45715.tif.tif\n",
      "Warning: Image 518ab39e259265c029c1e0493784cf94c31a24f9.tif.tif not found at C:\\Users\\Administrator\\Downloads\\train\\518ab39e259265c029c1e0493784cf94c31a24f9.tif.tif\n",
      "Warning: Image 2cc5886381639a2533bf8e3ec81f801e23975cbd.tif.tif not found at C:\\Users\\Administrator\\Downloads\\train\\2cc5886381639a2533bf8e3ec81f801e23975cbd.tif.tif\n",
      "Warning: Image efa01aa768045c067ada186139a13014dbc970a9.tif.tif not found at C:\\Users\\Administrator\\Downloads\\train\\efa01aa768045c067ada186139a13014dbc970a9.tif.tif\n",
      "Warning: Image 0b2f7998a19112fa100b906a729e2546d1614547.tif.tif not found at C:\\Users\\Administrator\\Downloads\\train\\0b2f7998a19112fa100b906a729e2546d1614547.tif.tif\n",
      "Warning: Image adb8103992d4399ab467c579ba606f5d6396f6e8.tif.tif not found at C:\\Users\\Administrator\\Downloads\\train\\adb8103992d4399ab467c579ba606f5d6396f6e8.tif.tif\n",
      "Warning: Image 101ebb0473725aeeab007265a88bf235ae751568.tif.tif not found at C:\\Users\\Administrator\\Downloads\\train\\101ebb0473725aeeab007265a88bf235ae751568.tif.tif\n",
      "Warning: Image 749e6943cd214913b4caf9f01c7137329f670487.tif.tif not found at C:\\Users\\Administrator\\Downloads\\train\\749e6943cd214913b4caf9f01c7137329f670487.tif.tif\n",
      "Warning: Image 5cf6dbbef4be9635e4fed08f9011ef40ed660294.tif.tif not found at C:\\Users\\Administrator\\Downloads\\train\\5cf6dbbef4be9635e4fed08f9011ef40ed660294.tif.tif\n",
      "Warning: Image ea926640e784cb008c57fb5238a8182b8a21ca27.tif.tif not found at C:\\Users\\Administrator\\Downloads\\train\\ea926640e784cb008c57fb5238a8182b8a21ca27.tif.tif\n",
      "Warning: Image 89138cf9a341653826e50e1c2bdf3b75e83192b8.tif.tif not found at C:\\Users\\Administrator\\Downloads\\train\\89138cf9a341653826e50e1c2bdf3b75e83192b8.tif.tif\n",
      "Warning: Image 2e02d208cd4c673d2e0e27972299cef930766bbd.tif.tif not found at C:\\Users\\Administrator\\Downloads\\train\\2e02d208cd4c673d2e0e27972299cef930766bbd.tif.tif\n",
      "Warning: Image 07c0d4324d7c850861c9e246497cfd80c511b103.tif.tif not found at C:\\Users\\Administrator\\Downloads\\train\\07c0d4324d7c850861c9e246497cfd80c511b103.tif.tif\n",
      "Warning: Image aee28d4701e2adfbbbca0d80628ac88fa24253ad.tif.tif not found at C:\\Users\\Administrator\\Downloads\\train\\aee28d4701e2adfbbbca0d80628ac88fa24253ad.tif.tif\n",
      "Warning: Image e46c9192a41e10f22c9be24018114b70ec165f8e.tif.tif not found at C:\\Users\\Administrator\\Downloads\\train\\e46c9192a41e10f22c9be24018114b70ec165f8e.tif.tif\n",
      "Warning: Image 02929b0bb3a9a79e1a9b36282bd9735e39db6baa.tif.tif not found at C:\\Users\\Administrator\\Downloads\\train\\02929b0bb3a9a79e1a9b36282bd9735e39db6baa.tif.tif\n",
      "Warning: Image 85567be6a1ae0cf67560f9c01381a4e981081c59.tif.tif not found at C:\\Users\\Administrator\\Downloads\\train\\85567be6a1ae0cf67560f9c01381a4e981081c59.tif.tif\n",
      "Warning: Image 4ecab8430932321b8198112e85d6545d2df1d883.tif.tif not found at C:\\Users\\Administrator\\Downloads\\train\\4ecab8430932321b8198112e85d6545d2df1d883.tif.tif\n",
      "Warning: Image 184ee29c1a3c226f361463d2e0470a6b7313dbd3.tif.tif not found at C:\\Users\\Administrator\\Downloads\\train\\184ee29c1a3c226f361463d2e0470a6b7313dbd3.tif.tif\n",
      "Warning: Image 13f8a0dd306529ae030ceb501c1fae488f91b1df.tif.tif not found at C:\\Users\\Administrator\\Downloads\\train\\13f8a0dd306529ae030ceb501c1fae488f91b1df.tif.tif\n",
      "Warning: Image f05c6dab95ac94b0afe9ecf171043a6bd52c173a.tif.tif not found at C:\\Users\\Administrator\\Downloads\\train\\f05c6dab95ac94b0afe9ecf171043a6bd52c173a.tif.tif\n",
      "Warning: Image 9677feab0b1b51a1621f55b3b0495cde5fbe4b2e.tif.tif not found at C:\\Users\\Administrator\\Downloads\\train\\9677feab0b1b51a1621f55b3b0495cde5fbe4b2e.tif.tif\n",
      "Warning: Image 240234030758761e53948e444b1ce053177bc438.tif.tif not found at C:\\Users\\Administrator\\Downloads\\train\\240234030758761e53948e444b1ce053177bc438.tif.tif\n",
      "Warning: Image 5e55d5db9748fafdc484e13e40de80b6d37b1a0b.tif.tif not found at C:\\Users\\Administrator\\Downloads\\train\\5e55d5db9748fafdc484e13e40de80b6d37b1a0b.tif.tif\n",
      "Warning: Image b5588317359df8154f08a0b283dd669596c4272f.tif.tif not found at C:\\Users\\Administrator\\Downloads\\train\\b5588317359df8154f08a0b283dd669596c4272f.tif.tif\n",
      "Warning: Image 0a7c3a16f7e318506f672457a86889996c16b364.tif.tif not found at C:\\Users\\Administrator\\Downloads\\train\\0a7c3a16f7e318506f672457a86889996c16b364.tif.tif\n",
      "Warning: Image 50e4d64abe12822a11f7d5ec4970fa8be5b4ad9e.tif.tif not found at C:\\Users\\Administrator\\Downloads\\train\\50e4d64abe12822a11f7d5ec4970fa8be5b4ad9e.tif.tif\n",
      "Warning: Image 140e996a52b4a505dc4eb2cd51ebc02268c0fd79.tif.tif not found at C:\\Users\\Administrator\\Downloads\\train\\140e996a52b4a505dc4eb2cd51ebc02268c0fd79.tif.tif\n",
      "Warning: Image 4e48dde45174cd9c91029749f3152ea71dd23d3d.tif.tif not found at C:\\Users\\Administrator\\Downloads\\train\\4e48dde45174cd9c91029749f3152ea71dd23d3d.tif.tif\n",
      "Warning: Image e533a63d2bf66f470bcd16bcd11a853a972c717f.tif.tif not found at C:\\Users\\Administrator\\Downloads\\train\\e533a63d2bf66f470bcd16bcd11a853a972c717f.tif.tif\n",
      "Warning: Image 3c0e0f5f4e4fb3cb762202d41f2709ea44c3182f.tif.tif not found at C:\\Users\\Administrator\\Downloads\\train\\3c0e0f5f4e4fb3cb762202d41f2709ea44c3182f.tif.tif\n",
      "Warning: Image c2a3041937ecfcd8b4a54194f6468cbdfca4def6.tif.tif not found at C:\\Users\\Administrator\\Downloads\\train\\c2a3041937ecfcd8b4a54194f6468cbdfca4def6.tif.tif\n",
      "Warning: Image c87a5e34fa4cb94a34d568a87583d8b9c922f97b.tif.tif not found at C:\\Users\\Administrator\\Downloads\\train\\c87a5e34fa4cb94a34d568a87583d8b9c922f97b.tif.tif\n",
      "Warning: Image 03efaf19cc1629768193f3d42b9ccc5b649de961.tif.tif not found at C:\\Users\\Administrator\\Downloads\\train\\03efaf19cc1629768193f3d42b9ccc5b649de961.tif.tif\n",
      "Warning: Image 8cee328e5107b1b973451cbe006a5d4c79f58a39.tif.tif not found at C:\\Users\\Administrator\\Downloads\\train\\8cee328e5107b1b973451cbe006a5d4c79f58a39.tif.tif\n",
      "Warning: Image 7c8490fcb8ca3fbb7b87971cb566fe9439cf1fac.tif.tif not found at C:\\Users\\Administrator\\Downloads\\train\\7c8490fcb8ca3fbb7b87971cb566fe9439cf1fac.tif.tif\n",
      "Warning: Image feaebe682dc889c9c939ae9742aaf3a6fae8aa39.tif.tif not found at C:\\Users\\Administrator\\Downloads\\train\\feaebe682dc889c9c939ae9742aaf3a6fae8aa39.tif.tif\n",
      "Warning: Image 92838251e021f8f3f00764c184322a5deaac1c1c.tif.tif not found at C:\\Users\\Administrator\\Downloads\\train\\92838251e021f8f3f00764c184322a5deaac1c1c.tif.tif\n",
      "Warning: Image 41ca0c03bb954779d6a1858c2c7610efdde3881f.tif.tif not found at C:\\Users\\Administrator\\Downloads\\train\\41ca0c03bb954779d6a1858c2c7610efdde3881f.tif.tif\n",
      "Warning: Image ed1a9b7dc030121c3928adae0517432ac82e7e6b.tif.tif not found at C:\\Users\\Administrator\\Downloads\\train\\ed1a9b7dc030121c3928adae0517432ac82e7e6b.tif.tif\n",
      "Warning: Image 44c424fa8d05bfde17b7df146df41035718aaa4a.tif.tif not found at C:\\Users\\Administrator\\Downloads\\train\\44c424fa8d05bfde17b7df146df41035718aaa4a.tif.tif\n",
      "Warning: Image e3b0e017ae3fb074fab23f7955d90388b264d980.tif.tif not found at C:\\Users\\Administrator\\Downloads\\train\\e3b0e017ae3fb074fab23f7955d90388b264d980.tif.tif\n",
      "Warning: Image a293cf1b2f100fdabd9bc29b269031662e27cb81.tif.tif not found at C:\\Users\\Administrator\\Downloads\\train\\a293cf1b2f100fdabd9bc29b269031662e27cb81.tif.tif\n",
      "Warning: Image 7bbd22a2aa3a113621d787062186f8d6d63f8752.tif.tif not found at C:\\Users\\Administrator\\Downloads\\train\\7bbd22a2aa3a113621d787062186f8d6d63f8752.tif.tif\n",
      "Warning: Image 0952cd7e089cb7441a8c7b3ce891fb7c0bce2ee0.tif.tif not found at C:\\Users\\Administrator\\Downloads\\train\\0952cd7e089cb7441a8c7b3ce891fb7c0bce2ee0.tif.tif\n",
      "Warning: Image 866b045d56373895dadd6bd2c209a5b55d7481c3.tif.tif not found at C:\\Users\\Administrator\\Downloads\\train\\866b045d56373895dadd6bd2c209a5b55d7481c3.tif.tif\n",
      "Warning: Image b608a9d7dace126a249a05e2d4f9db71a03928be.tif.tif not found at C:\\Users\\Administrator\\Downloads\\train\\b608a9d7dace126a249a05e2d4f9db71a03928be.tif.tif\n",
      "Warning: Image 124f64a52731e6156b7e53dfa8979c72bde0dd4d.tif.tif not found at C:\\Users\\Administrator\\Downloads\\train\\124f64a52731e6156b7e53dfa8979c72bde0dd4d.tif.tif\n",
      "Warning: Image a0b5c38e7547ca522758ef032b1bcb22027ed5b8.tif.tif not found at C:\\Users\\Administrator\\Downloads\\train\\a0b5c38e7547ca522758ef032b1bcb22027ed5b8.tif.tif\n",
      "Warning: Image b5ef41afad37307630fd62759958665290cfe630.tif.tif not found at C:\\Users\\Administrator\\Downloads\\train\\b5ef41afad37307630fd62759958665290cfe630.tif.tif\n",
      "Warning: Image 8657b5cfe84b820a85a8f2ac420db496b8dfebfa.tif.tif not found at C:\\Users\\Administrator\\Downloads\\train\\8657b5cfe84b820a85a8f2ac420db496b8dfebfa.tif.tif\n",
      "Warning: Image 7d9d3b6884f6a62cb82d7a24481bc67a148edcdc.tif.tif not found at C:\\Users\\Administrator\\Downloads\\train\\7d9d3b6884f6a62cb82d7a24481bc67a148edcdc.tif.tif\n",
      "Warning: Image 0183ad04e92039873e715b2db962128017fbef13.tif.tif not found at C:\\Users\\Administrator\\Downloads\\train\\0183ad04e92039873e715b2db962128017fbef13.tif.tif\n",
      "Warning: Image 3ca7340f081e9aa9f08ae14258e6240658457407.tif.tif not found at C:\\Users\\Administrator\\Downloads\\train\\3ca7340f081e9aa9f08ae14258e6240658457407.tif.tif\n",
      "Warning: Image aac217bffe11b0c68e7851ec5b253812a8c86910.tif.tif not found at C:\\Users\\Administrator\\Downloads\\train\\aac217bffe11b0c68e7851ec5b253812a8c86910.tif.tif\n",
      "Warning: Image e6066bf9d7c3342868950de276436228c8f0f13d.tif.tif not found at C:\\Users\\Administrator\\Downloads\\train\\e6066bf9d7c3342868950de276436228c8f0f13d.tif.tif\n",
      "Warning: Image 8933f84e29bde66bc2bedd049c776eaac4f26ea9.tif.tif not found at C:\\Users\\Administrator\\Downloads\\train\\8933f84e29bde66bc2bedd049c776eaac4f26ea9.tif.tif\n",
      "Warning: Image 032f34be45534c2089ad709e52d444b9a06a910a.tif.tif not found at C:\\Users\\Administrator\\Downloads\\train\\032f34be45534c2089ad709e52d444b9a06a910a.tif.tif\n",
      "Warning: Image deeb489cd482ba1a8671696f955fabaa086e5fa8.tif.tif not found at C:\\Users\\Administrator\\Downloads\\train\\deeb489cd482ba1a8671696f955fabaa086e5fa8.tif.tif\n",
      "Warning: Image c2ebfe813a940617b89ab6edf012a605a1b3a0c6.tif.tif not found at C:\\Users\\Administrator\\Downloads\\train\\c2ebfe813a940617b89ab6edf012a605a1b3a0c6.tif.tif\n",
      "Warning: Image 424a25e5f3d53c966c36b403707d02c4289c4af4.tif.tif not found at C:\\Users\\Administrator\\Downloads\\train\\424a25e5f3d53c966c36b403707d02c4289c4af4.tif.tif\n",
      "Warning: Image 5b088ebbe332848b870310176f6464e6011ecca9.tif.tif not found at C:\\Users\\Administrator\\Downloads\\train\\5b088ebbe332848b870310176f6464e6011ecca9.tif.tif\n",
      "Warning: Image 439ad991bfb28ed97612cfb2626b3a7332a3eb0f.tif.tif not found at C:\\Users\\Administrator\\Downloads\\train\\439ad991bfb28ed97612cfb2626b3a7332a3eb0f.tif.tif\n",
      "Warning: Image 49a85f3f818dc09f20bb26328ab1289e8e2457da.tif.tif not found at C:\\Users\\Administrator\\Downloads\\train\\49a85f3f818dc09f20bb26328ab1289e8e2457da.tif.tif\n",
      "Warning: Image ebaa1294736f7726f606695b58dfe77a62d66f90.tif.tif not found at C:\\Users\\Administrator\\Downloads\\train\\ebaa1294736f7726f606695b58dfe77a62d66f90.tif.tif\n",
      "Warning: Image b729467d9da3ded15228b1e9894d26b5e95b5226.tif.tif not found at C:\\Users\\Administrator\\Downloads\\train\\b729467d9da3ded15228b1e9894d26b5e95b5226.tif.tif\n",
      "Warning: Image f8aebf0acb2f43b1d0936dc65d369146d654ba4a.tif.tif not found at C:\\Users\\Administrator\\Downloads\\train\\f8aebf0acb2f43b1d0936dc65d369146d654ba4a.tif.tif\n",
      "Warning: Image 4ae0d44e60832f2e179d58c9e5b5dea6ae2cb238.tif.tif not found at C:\\Users\\Administrator\\Downloads\\train\\4ae0d44e60832f2e179d58c9e5b5dea6ae2cb238.tif.tif\n",
      "Warning: Image 06e6e5b98ce5390c2060ab0639096d7b623b9cc6.tif.tif not found at C:\\Users\\Administrator\\Downloads\\train\\06e6e5b98ce5390c2060ab0639096d7b623b9cc6.tif.tif\n",
      "Warning: Image a54f95ac9cfb10df8e9cabd81d17f0ba5475595f.tif.tif not found at C:\\Users\\Administrator\\Downloads\\train\\a54f95ac9cfb10df8e9cabd81d17f0ba5475595f.tif.tif\n",
      "Warning: Image ec2016150b0e21ad3a02160cfc06955971f57ece.tif.tif not found at C:\\Users\\Administrator\\Downloads\\train\\ec2016150b0e21ad3a02160cfc06955971f57ece.tif.tif\n",
      "Warning: Image 1e5bc686a2397a515511ee6890486cb0357ff643.tif.tif not found at C:\\Users\\Administrator\\Downloads\\train\\1e5bc686a2397a515511ee6890486cb0357ff643.tif.tif\n",
      "Warning: Image edd11c0d0bf1f4f13bc90f1f33e902b0209c6cc0.tif.tif not found at C:\\Users\\Administrator\\Downloads\\train\\edd11c0d0bf1f4f13bc90f1f33e902b0209c6cc0.tif.tif\n",
      "Warning: Image e0c35a6a8e9ff5f12772269865ffccf9e91669d2.tif.tif not found at C:\\Users\\Administrator\\Downloads\\train\\e0c35a6a8e9ff5f12772269865ffccf9e91669d2.tif.tif\n",
      "Warning: Image 6df67f9d053fed02f55afc297a1952131209b570.tif.tif not found at C:\\Users\\Administrator\\Downloads\\train\\6df67f9d053fed02f55afc297a1952131209b570.tif.tif\n",
      "Warning: Image 11aa34d703714e87fa1719dd4a8eb42bf093f173.tif.tif not found at C:\\Users\\Administrator\\Downloads\\train\\11aa34d703714e87fa1719dd4a8eb42bf093f173.tif.tif\n",
      "Warning: Image f0130673b336ff55de7d56759ee51f5b40f2ed35.tif.tif not found at C:\\Users\\Administrator\\Downloads\\train\\f0130673b336ff55de7d56759ee51f5b40f2ed35.tif.tif\n",
      "Warning: Image eb4843a1a778d9aab73c91b550dc4cf94869bbe0.tif.tif not found at C:\\Users\\Administrator\\Downloads\\train\\eb4843a1a778d9aab73c91b550dc4cf94869bbe0.tif.tif\n",
      "Warning: Image 9f9c6c56c6bec1cb7138b0cd70c47efc6a82b161.tif.tif not found at C:\\Users\\Administrator\\Downloads\\train\\9f9c6c56c6bec1cb7138b0cd70c47efc6a82b161.tif.tif\n",
      "Warning: Image c945e0c9610786589acb359151d3254a464ecf73.tif.tif not found at C:\\Users\\Administrator\\Downloads\\train\\c945e0c9610786589acb359151d3254a464ecf73.tif.tif\n",
      "Warning: Image 214d703b20d51d14543d680fd04b7865d1bdea6d.tif.tif not found at C:\\Users\\Administrator\\Downloads\\train\\214d703b20d51d14543d680fd04b7865d1bdea6d.tif.tif\n",
      "Warning: Image da0c652e2b6309423a1503feeb5d3dd747f7a86b.tif.tif not found at C:\\Users\\Administrator\\Downloads\\train\\da0c652e2b6309423a1503feeb5d3dd747f7a86b.tif.tif\n",
      "Warning: Image 7d7058503abda7fe19b3e1cae3c68bb7c9994a6e.tif.tif not found at C:\\Users\\Administrator\\Downloads\\train\\7d7058503abda7fe19b3e1cae3c68bb7c9994a6e.tif.tif\n",
      "Warning: Image 5feee6aa7b0aa05d5184e9d57fc18c60c2757f5d.tif.tif not found at C:\\Users\\Administrator\\Downloads\\train\\5feee6aa7b0aa05d5184e9d57fc18c60c2757f5d.tif.tif\n",
      "No valid images found for label 1\n"
     ]
    }
   ],
   "source": [
    "# ### 1.5 Visual EDA\n",
    "def plot_sample_images(labels, path, n=5):\n",
    "    fig, axes = plt.subplots(2, n, figsize=(15, 6))\n",
    "    for i, label in enumerate(['0', '1']):  # Use string labels\n",
    "        label_samples = labels[labels['label'] == label]\n",
    "        if len(label_samples) == 0:\n",
    "            print(f\"Warning: No images found for label {label}\")\n",
    "            for j in range(n):\n",
    "                axes[i, j].set_title(f\"Label: {label} (No Data)\")\n",
    "                axes[i, j].axis('off')\n",
    "            continue\n",
    "        label_samples = label_samples.sample(n, random_state=42, replace=True)\n",
    "        for j, img_id in enumerate(label_samples['id']):\n",
    "            img_path = os.path.join(path, img_id)\n",
    "            try:\n",
    "                img = Image.open(img_path)\n",
    "                axes[i, j].imshow(img)\n",
    "                axes[i, j].set_title(f\"Label: {label}\")\n",
    "                axes[i, j].axis('off')\n",
    "            except FileNotFoundError:\n",
    "                print(f\"Warning: Image {img_id} not found at {img_path}\")\n",
    "                axes[i, j].set_title(f\"Label: {label} (Missing)\")\n",
    "                axes[i, j].axis('off')\n",
    "    plt.suptitle(\"Sample Images (Top: No Cancer, Bottom: Cancer)\")\n",
    "    plt.show()\n",
    "\n",
    "plot_sample_images(train_labels, train_path)\n",
    "\n",
    "def plot_pixel_intensity(labels, path, label_value, title):\n",
    "    sample = labels[labels['label'] == label_value]\n",
    "    if len(sample) == 0:\n",
    "        print(f\"Warning: No images found for label {label_value}\")\n",
    "        return\n",
    "    sample = sample.sample(100, random_state=42, replace=True)\n",
    "    pixel_values = []\n",
    "    for img_id in sample['id']:\n",
    "        img_path = os.path.join(path, img_id)\n",
    "        try:\n",
    "            img = np.array(Image.open(img_path))\n",
    "            pixel_values.append(img.flatten())\n",
    "        except FileNotFoundError:\n",
    "            print(f\"Warning: Image {img_id} not found at {img_path}\")\n",
    "    if pixel_values:\n",
    "        pixel_values = np.concatenate(pixel_values)\n",
    "        plt.hist(pixel_values, bins=50, density=True)\n",
    "        plt.title(title)\n",
    "        plt.xlabel(\"Pixel Intensity\")\n",
    "        plt.ylabel(\"Density\")\n",
    "        plt.show()\n",
    "    else:\n",
    "        print(f\"No valid images found for label {label_value}\")\n",
    "\n",
    "plot_pixel_intensity(train_labels, train_path, '0', \"Pixel Intensity Distribution (No Cancer)\")\n",
    "plot_pixel_intensity(train_labels, train_path, '1', \"Pixel Intensity Distribution (Cancer)\")"
   ]
  },
  {
   "cell_type": "markdown",
   "id": "aeb73efd-42ec-4e09-b86f-23b782d151f9",
   "metadata": {},
   "source": [
    "##### Analysis\n",
    "Cancerous images show darker, irregular patterns; non-cancerous images are more uniform. Pixel intensity differences support CNN use."
   ]
  },
  {
   "cell_type": "markdown",
   "id": "891c7234-bf9f-477d-b4af-d37ad8c090ac",
   "metadata": {},
   "source": [
    "### 1.6 Data Preparation"
   ]
  },
  {
   "cell_type": "code",
   "execution_count": 12,
   "id": "d3be0978-3e90-473e-ba77-f0b431beadfe",
   "metadata": {},
   "outputs": [
    {
     "name": "stdout",
     "output_type": "stream",
     "text": [
      "Training set shape: (8000, 2)\n",
      "Validation set shape: (2000, 2)\n",
      "Found 8000 non-validated image filenames belonging to 2 classes.\n",
      "Found 2000 non-validated image filenames belonging to 2 classes.\n"
     ]
    }
   ],
   "source": [
    "# ### 1.6 Data Preparation\n",
    "# Create subset of 10,000 images (5,000 per class) to reduce dataset size\n",
    "import pandas as pd\n",
    "import os\n",
    "import shutil\n",
    "\n",
    "base_path = r\"C:\\Users\\Administrator\\Downloads\"\n",
    "train_labels_path = os.path.join(base_path, \"train_labels.csv\")\n",
    "train_path = os.path.join(base_path, \"train\")\n",
    "subset_train_path = os.path.join(base_path, \"train_subset\")\n",
    "\n",
    "# Create subset folder\n",
    "if not os.path.exists(subset_train_path):\n",
    "    os.makedirs(subset_train_path)\n",
    "\n",
    "# Load labels and select subset\n",
    "train_labels = pd.read_csv(train_labels_path)\n",
    "train_labels['label'] = train_labels['label'].astype(str)  # Ensure labels are strings before grouping\n",
    "subset_size = 10000  # 5,000 per class\n",
    "subset_labels = train_labels.groupby('label').sample(n=subset_size//2, random_state=42).reset_index(drop=True)\n",
    "subset_labels['id'] = subset_labels['id'].apply(lambda x: f\"{x}.tif\" if not x.endswith('.tif') else x)\n",
    "\n",
    "# Copy subset images\n",
    "missing_files = []\n",
    "for img_id in subset_labels['id']:\n",
    "    src = os.path.join(train_path, img_id)\n",
    "    dst = os.path.join(subset_train_path, img_id)\n",
    "    if os.path.exists(src):\n",
    "        shutil.copy(src, dst)\n",
    "    else:\n",
    "        missing_files.append(img_id)\n",
    "\n",
    "# Remove missing files from subset labels\n",
    "subset_labels = subset_labels[~subset_labels['id'].isin(missing_files)]\n",
    "subset_labels_path = os.path.join(base_path, \"train_labels_subset.csv\")\n",
    "subset_labels.to_csv(subset_labels_path, index=False)\n",
    "\n",
    "# Update train_labels to use subset\n",
    "train_labels = pd.read_csv(subset_labels_path)\n",
    "train_path = subset_train_path\n",
    "\n",
    "train_df, val_df = train_test_split(train_labels, test_size=0.2, stratify=train_labels['label'], random_state=42)\n",
    "train_df['label'] = train_df['label'].astype(str)  # Ensure train labels are strings\n",
    "val_df['label'] = val_df['label'].astype(str)  # Ensure validation labels are strings\n",
    "print(\"Training set shape:\", train_df.shape)\n",
    "print(\"Validation set shape:\", val_df.shape)\n",
    "\n",
    "train_datagen = ImageDataGenerator(rescale=1./255, rotation_range=20, width_shift_range=0.2, height_shift_range=0.2, horizontal_flip=True, vertical_flip=True)\n",
    "val_datagen = ImageDataGenerator(rescale=1./255)\n",
    "\n",
    "def create_generator(df, path, batch_size=16):\n",
    "    return train_datagen.flow_from_dataframe(\n",
    "        dataframe=df,\n",
    "        directory=path,\n",
    "        x_col='id',\n",
    "        y_col='label',\n",
    "        target_size=(96, 96),\n",
    "        batch_size=batch_size,\n",
    "        class_mode='binary',\n",
    "        shuffle=True,\n",
    "        validate_filenames=False  # Disable validation to avoid filename issues\n",
    "    )\n",
    "\n",
    "train_generator = create_generator(train_df, train_path)\n",
    "val_generator = create_generator(val_df, train_path)"
   ]
  },
  {
   "cell_type": "markdown",
   "id": "5bf7baa4-6c4a-4cbe-8386-34e16a6c900f",
   "metadata": {},
   "source": [
    "##### Analysis\n",
    "TBD"
   ]
  },
  {
   "cell_type": "markdown",
   "id": "18a0a725-624a-4eff-8f9b-964ab027fec2",
   "metadata": {},
   "source": [
    "### 1.7 Model Building (CNN)"
   ]
  },
  {
   "cell_type": "code",
   "execution_count": 13,
   "id": "8654752e-f0c2-43f2-ba1e-af21fc97ece3",
   "metadata": {},
   "outputs": [
    {
     "name": "stderr",
     "output_type": "stream",
     "text": [
      "C:\\Users\\Administrator\\AppData\\Local\\Programs\\Python\\Python312\\Lib\\site-packages\\keras\\src\\layers\\convolutional\\base_conv.py:113: UserWarning: Do not pass an `input_shape`/`input_dim` argument to a layer. When using Sequential models, prefer using an `Input(shape)` object as the first layer in the model instead.\n",
      "  super().__init__(activity_regularizer=activity_regularizer, **kwargs)\n"
     ]
    },
    {
     "data": {
      "text/html": [
       "<pre style=\"white-space:pre;overflow-x:auto;line-height:normal;font-family:Menlo,'DejaVu Sans Mono',consolas,'Courier New',monospace\"><span style=\"font-weight: bold\">Model: \"sequential\"</span>\n",
       "</pre>\n"
      ],
      "text/plain": [
       "\u001b[1mModel: \"sequential\"\u001b[0m\n"
      ]
     },
     "metadata": {},
     "output_type": "display_data"
    },
    {
     "data": {
      "text/html": [
       "<pre style=\"white-space:pre;overflow-x:auto;line-height:normal;font-family:Menlo,'DejaVu Sans Mono',consolas,'Courier New',monospace\">┏━━━━━━━━━━━━━━━━━━━━━━━━━━━━━━━━━━━━━━┳━━━━━━━━━━━━━━━━━━━━━━━━━━━━━┳━━━━━━━━━━━━━━━━━┓\n",
       "┃<span style=\"font-weight: bold\"> Layer (type)                         </span>┃<span style=\"font-weight: bold\"> Output Shape                </span>┃<span style=\"font-weight: bold\">         Param # </span>┃\n",
       "┡━━━━━━━━━━━━━━━━━━━━━━━━━━━━━━━━━━━━━━╇━━━━━━━━━━━━━━━━━━━━━━━━━━━━━╇━━━━━━━━━━━━━━━━━┩\n",
       "│ conv2d (<span style=\"color: #0087ff; text-decoration-color: #0087ff\">Conv2D</span>)                      │ (<span style=\"color: #00d7ff; text-decoration-color: #00d7ff\">None</span>, <span style=\"color: #00af00; text-decoration-color: #00af00\">94</span>, <span style=\"color: #00af00; text-decoration-color: #00af00\">94</span>, <span style=\"color: #00af00; text-decoration-color: #00af00\">32</span>)          │             <span style=\"color: #00af00; text-decoration-color: #00af00\">896</span> │\n",
       "├──────────────────────────────────────┼─────────────────────────────┼─────────────────┤\n",
       "│ max_pooling2d (<span style=\"color: #0087ff; text-decoration-color: #0087ff\">MaxPooling2D</span>)         │ (<span style=\"color: #00d7ff; text-decoration-color: #00d7ff\">None</span>, <span style=\"color: #00af00; text-decoration-color: #00af00\">47</span>, <span style=\"color: #00af00; text-decoration-color: #00af00\">47</span>, <span style=\"color: #00af00; text-decoration-color: #00af00\">32</span>)          │               <span style=\"color: #00af00; text-decoration-color: #00af00\">0</span> │\n",
       "├──────────────────────────────────────┼─────────────────────────────┼─────────────────┤\n",
       "│ conv2d_1 (<span style=\"color: #0087ff; text-decoration-color: #0087ff\">Conv2D</span>)                    │ (<span style=\"color: #00d7ff; text-decoration-color: #00d7ff\">None</span>, <span style=\"color: #00af00; text-decoration-color: #00af00\">45</span>, <span style=\"color: #00af00; text-decoration-color: #00af00\">45</span>, <span style=\"color: #00af00; text-decoration-color: #00af00\">64</span>)          │          <span style=\"color: #00af00; text-decoration-color: #00af00\">18,496</span> │\n",
       "├──────────────────────────────────────┼─────────────────────────────┼─────────────────┤\n",
       "│ max_pooling2d_1 (<span style=\"color: #0087ff; text-decoration-color: #0087ff\">MaxPooling2D</span>)       │ (<span style=\"color: #00d7ff; text-decoration-color: #00d7ff\">None</span>, <span style=\"color: #00af00; text-decoration-color: #00af00\">22</span>, <span style=\"color: #00af00; text-decoration-color: #00af00\">22</span>, <span style=\"color: #00af00; text-decoration-color: #00af00\">64</span>)          │               <span style=\"color: #00af00; text-decoration-color: #00af00\">0</span> │\n",
       "├──────────────────────────────────────┼─────────────────────────────┼─────────────────┤\n",
       "│ conv2d_2 (<span style=\"color: #0087ff; text-decoration-color: #0087ff\">Conv2D</span>)                    │ (<span style=\"color: #00d7ff; text-decoration-color: #00d7ff\">None</span>, <span style=\"color: #00af00; text-decoration-color: #00af00\">20</span>, <span style=\"color: #00af00; text-decoration-color: #00af00\">20</span>, <span style=\"color: #00af00; text-decoration-color: #00af00\">128</span>)         │          <span style=\"color: #00af00; text-decoration-color: #00af00\">73,856</span> │\n",
       "├──────────────────────────────────────┼─────────────────────────────┼─────────────────┤\n",
       "│ max_pooling2d_2 (<span style=\"color: #0087ff; text-decoration-color: #0087ff\">MaxPooling2D</span>)       │ (<span style=\"color: #00d7ff; text-decoration-color: #00d7ff\">None</span>, <span style=\"color: #00af00; text-decoration-color: #00af00\">10</span>, <span style=\"color: #00af00; text-decoration-color: #00af00\">10</span>, <span style=\"color: #00af00; text-decoration-color: #00af00\">128</span>)         │               <span style=\"color: #00af00; text-decoration-color: #00af00\">0</span> │\n",
       "├──────────────────────────────────────┼─────────────────────────────┼─────────────────┤\n",
       "│ flatten (<span style=\"color: #0087ff; text-decoration-color: #0087ff\">Flatten</span>)                    │ (<span style=\"color: #00d7ff; text-decoration-color: #00d7ff\">None</span>, <span style=\"color: #00af00; text-decoration-color: #00af00\">12800</span>)               │               <span style=\"color: #00af00; text-decoration-color: #00af00\">0</span> │\n",
       "├──────────────────────────────────────┼─────────────────────────────┼─────────────────┤\n",
       "│ dense (<span style=\"color: #0087ff; text-decoration-color: #0087ff\">Dense</span>)                        │ (<span style=\"color: #00d7ff; text-decoration-color: #00d7ff\">None</span>, <span style=\"color: #00af00; text-decoration-color: #00af00\">128</span>)                 │       <span style=\"color: #00af00; text-decoration-color: #00af00\">1,638,528</span> │\n",
       "├──────────────────────────────────────┼─────────────────────────────┼─────────────────┤\n",
       "│ dropout (<span style=\"color: #0087ff; text-decoration-color: #0087ff\">Dropout</span>)                    │ (<span style=\"color: #00d7ff; text-decoration-color: #00d7ff\">None</span>, <span style=\"color: #00af00; text-decoration-color: #00af00\">128</span>)                 │               <span style=\"color: #00af00; text-decoration-color: #00af00\">0</span> │\n",
       "├──────────────────────────────────────┼─────────────────────────────┼─────────────────┤\n",
       "│ dense_1 (<span style=\"color: #0087ff; text-decoration-color: #0087ff\">Dense</span>)                      │ (<span style=\"color: #00d7ff; text-decoration-color: #00d7ff\">None</span>, <span style=\"color: #00af00; text-decoration-color: #00af00\">1</span>)                   │             <span style=\"color: #00af00; text-decoration-color: #00af00\">129</span> │\n",
       "└──────────────────────────────────────┴─────────────────────────────┴─────────────────┘\n",
       "</pre>\n"
      ],
      "text/plain": [
       "┏━━━━━━━━━━━━━━━━━━━━━━━━━━━━━━━━━━━━━━┳━━━━━━━━━━━━━━━━━━━━━━━━━━━━━┳━━━━━━━━━━━━━━━━━┓\n",
       "┃\u001b[1m \u001b[0m\u001b[1mLayer (type)                        \u001b[0m\u001b[1m \u001b[0m┃\u001b[1m \u001b[0m\u001b[1mOutput Shape               \u001b[0m\u001b[1m \u001b[0m┃\u001b[1m \u001b[0m\u001b[1m        Param #\u001b[0m\u001b[1m \u001b[0m┃\n",
       "┡━━━━━━━━━━━━━━━━━━━━━━━━━━━━━━━━━━━━━━╇━━━━━━━━━━━━━━━━━━━━━━━━━━━━━╇━━━━━━━━━━━━━━━━━┩\n",
       "│ conv2d (\u001b[38;5;33mConv2D\u001b[0m)                      │ (\u001b[38;5;45mNone\u001b[0m, \u001b[38;5;34m94\u001b[0m, \u001b[38;5;34m94\u001b[0m, \u001b[38;5;34m32\u001b[0m)          │             \u001b[38;5;34m896\u001b[0m │\n",
       "├──────────────────────────────────────┼─────────────────────────────┼─────────────────┤\n",
       "│ max_pooling2d (\u001b[38;5;33mMaxPooling2D\u001b[0m)         │ (\u001b[38;5;45mNone\u001b[0m, \u001b[38;5;34m47\u001b[0m, \u001b[38;5;34m47\u001b[0m, \u001b[38;5;34m32\u001b[0m)          │               \u001b[38;5;34m0\u001b[0m │\n",
       "├──────────────────────────────────────┼─────────────────────────────┼─────────────────┤\n",
       "│ conv2d_1 (\u001b[38;5;33mConv2D\u001b[0m)                    │ (\u001b[38;5;45mNone\u001b[0m, \u001b[38;5;34m45\u001b[0m, \u001b[38;5;34m45\u001b[0m, \u001b[38;5;34m64\u001b[0m)          │          \u001b[38;5;34m18,496\u001b[0m │\n",
       "├──────────────────────────────────────┼─────────────────────────────┼─────────────────┤\n",
       "│ max_pooling2d_1 (\u001b[38;5;33mMaxPooling2D\u001b[0m)       │ (\u001b[38;5;45mNone\u001b[0m, \u001b[38;5;34m22\u001b[0m, \u001b[38;5;34m22\u001b[0m, \u001b[38;5;34m64\u001b[0m)          │               \u001b[38;5;34m0\u001b[0m │\n",
       "├──────────────────────────────────────┼─────────────────────────────┼─────────────────┤\n",
       "│ conv2d_2 (\u001b[38;5;33mConv2D\u001b[0m)                    │ (\u001b[38;5;45mNone\u001b[0m, \u001b[38;5;34m20\u001b[0m, \u001b[38;5;34m20\u001b[0m, \u001b[38;5;34m128\u001b[0m)         │          \u001b[38;5;34m73,856\u001b[0m │\n",
       "├──────────────────────────────────────┼─────────────────────────────┼─────────────────┤\n",
       "│ max_pooling2d_2 (\u001b[38;5;33mMaxPooling2D\u001b[0m)       │ (\u001b[38;5;45mNone\u001b[0m, \u001b[38;5;34m10\u001b[0m, \u001b[38;5;34m10\u001b[0m, \u001b[38;5;34m128\u001b[0m)         │               \u001b[38;5;34m0\u001b[0m │\n",
       "├──────────────────────────────────────┼─────────────────────────────┼─────────────────┤\n",
       "│ flatten (\u001b[38;5;33mFlatten\u001b[0m)                    │ (\u001b[38;5;45mNone\u001b[0m, \u001b[38;5;34m12800\u001b[0m)               │               \u001b[38;5;34m0\u001b[0m │\n",
       "├──────────────────────────────────────┼─────────────────────────────┼─────────────────┤\n",
       "│ dense (\u001b[38;5;33mDense\u001b[0m)                        │ (\u001b[38;5;45mNone\u001b[0m, \u001b[38;5;34m128\u001b[0m)                 │       \u001b[38;5;34m1,638,528\u001b[0m │\n",
       "├──────────────────────────────────────┼─────────────────────────────┼─────────────────┤\n",
       "│ dropout (\u001b[38;5;33mDropout\u001b[0m)                    │ (\u001b[38;5;45mNone\u001b[0m, \u001b[38;5;34m128\u001b[0m)                 │               \u001b[38;5;34m0\u001b[0m │\n",
       "├──────────────────────────────────────┼─────────────────────────────┼─────────────────┤\n",
       "│ dense_1 (\u001b[38;5;33mDense\u001b[0m)                      │ (\u001b[38;5;45mNone\u001b[0m, \u001b[38;5;34m1\u001b[0m)                   │             \u001b[38;5;34m129\u001b[0m │\n",
       "└──────────────────────────────────────┴─────────────────────────────┴─────────────────┘\n"
      ]
     },
     "metadata": {},
     "output_type": "display_data"
    },
    {
     "data": {
      "text/html": [
       "<pre style=\"white-space:pre;overflow-x:auto;line-height:normal;font-family:Menlo,'DejaVu Sans Mono',consolas,'Courier New',monospace\"><span style=\"font-weight: bold\"> Total params: </span><span style=\"color: #00af00; text-decoration-color: #00af00\">1,731,905</span> (6.61 MB)\n",
       "</pre>\n"
      ],
      "text/plain": [
       "\u001b[1m Total params: \u001b[0m\u001b[38;5;34m1,731,905\u001b[0m (6.61 MB)\n"
      ]
     },
     "metadata": {},
     "output_type": "display_data"
    },
    {
     "data": {
      "text/html": [
       "<pre style=\"white-space:pre;overflow-x:auto;line-height:normal;font-family:Menlo,'DejaVu Sans Mono',consolas,'Courier New',monospace\"><span style=\"font-weight: bold\"> Trainable params: </span><span style=\"color: #00af00; text-decoration-color: #00af00\">1,731,905</span> (6.61 MB)\n",
       "</pre>\n"
      ],
      "text/plain": [
       "\u001b[1m Trainable params: \u001b[0m\u001b[38;5;34m1,731,905\u001b[0m (6.61 MB)\n"
      ]
     },
     "metadata": {},
     "output_type": "display_data"
    },
    {
     "data": {
      "text/html": [
       "<pre style=\"white-space:pre;overflow-x:auto;line-height:normal;font-family:Menlo,'DejaVu Sans Mono',consolas,'Courier New',monospace\"><span style=\"font-weight: bold\"> Non-trainable params: </span><span style=\"color: #00af00; text-decoration-color: #00af00\">0</span> (0.00 B)\n",
       "</pre>\n"
      ],
      "text/plain": [
       "\u001b[1m Non-trainable params: \u001b[0m\u001b[38;5;34m0\u001b[0m (0.00 B)\n"
      ]
     },
     "metadata": {},
     "output_type": "display_data"
    },
    {
     "name": "stderr",
     "output_type": "stream",
     "text": [
      "C:\\Users\\Administrator\\AppData\\Local\\Programs\\Python\\Python312\\Lib\\site-packages\\keras\\src\\trainers\\data_adapters\\py_dataset_adapter.py:121: UserWarning: Your `PyDataset` class should call `super().__init__(**kwargs)` in its constructor. `**kwargs` can include `workers`, `use_multiprocessing`, `max_queue_size`. Do not pass these arguments to `fit()`, as they will be ignored.\n",
      "  self._warn_if_super_not_called()\n"
     ]
    },
    {
     "name": "stdout",
     "output_type": "stream",
     "text": [
      "Epoch 1/10\n",
      "\u001b[1m500/500\u001b[0m \u001b[32m━━━━━━━━━━━━━━━━━━━━\u001b[0m\u001b[37m\u001b[0m \u001b[1m93s\u001b[0m 183ms/step - accuracy: 0.6990 - auc: 0.7661 - loss: 0.5803 - val_accuracy: 0.7860 - val_auc: 0.8488 - val_loss: 0.4893\n",
      "Epoch 2/10\n",
      "\u001b[1m500/500\u001b[0m \u001b[32m━━━━━━━━━━━━━━━━━━━━\u001b[0m\u001b[37m\u001b[0m \u001b[1m40s\u001b[0m 80ms/step - accuracy: 0.7628 - auc: 0.8319 - loss: 0.5087 - val_accuracy: 0.7795 - val_auc: 0.8560 - val_loss: 0.4788\n",
      "Epoch 3/10\n",
      "\u001b[1m500/500\u001b[0m \u001b[32m━━━━━━━━━━━━━━━━━━━━\u001b[0m\u001b[37m\u001b[0m \u001b[1m40s\u001b[0m 80ms/step - accuracy: 0.7740 - auc: 0.8420 - loss: 0.4950 - val_accuracy: 0.7820 - val_auc: 0.8585 - val_loss: 0.4781\n",
      "Epoch 4/10\n",
      "\u001b[1m500/500\u001b[0m \u001b[32m━━━━━━━━━━━━━━━━━━━━\u001b[0m\u001b[37m\u001b[0m \u001b[1m42s\u001b[0m 84ms/step - accuracy: 0.7710 - auc: 0.8424 - loss: 0.4968 - val_accuracy: 0.7835 - val_auc: 0.8615 - val_loss: 0.4776\n",
      "Epoch 5/10\n",
      "\u001b[1m500/500\u001b[0m \u001b[32m━━━━━━━━━━━━━━━━━━━━\u001b[0m\u001b[37m\u001b[0m \u001b[1m40s\u001b[0m 80ms/step - accuracy: 0.7851 - auc: 0.8542 - loss: 0.4800 - val_accuracy: 0.7670 - val_auc: 0.8485 - val_loss: 0.4982\n",
      "Epoch 6/10\n",
      "\u001b[1m500/500\u001b[0m \u001b[32m━━━━━━━━━━━━━━━━━━━━\u001b[0m\u001b[37m\u001b[0m \u001b[1m0s\u001b[0m 70ms/step - accuracy: 0.7883 - auc: 0.8567 - loss: 0.4740 "
     ]
    },
    {
     "ename": "KeyboardInterrupt",
     "evalue": "",
     "output_type": "error",
     "traceback": [
      "\u001b[1;31m---------------------------------------------------------------------------\u001b[0m",
      "\u001b[1;31mKeyboardInterrupt\u001b[0m                         Traceback (most recent call last)",
      "Cell \u001b[1;32mIn[13], line 17\u001b[0m\n\u001b[0;32m     14\u001b[0m model\u001b[38;5;241m.\u001b[39mcompile(optimizer\u001b[38;5;241m=\u001b[39m\u001b[38;5;124m'\u001b[39m\u001b[38;5;124madam\u001b[39m\u001b[38;5;124m'\u001b[39m, loss\u001b[38;5;241m=\u001b[39m\u001b[38;5;124m'\u001b[39m\u001b[38;5;124mbinary_crossentropy\u001b[39m\u001b[38;5;124m'\u001b[39m, metrics\u001b[38;5;241m=\u001b[39m[\u001b[38;5;124m'\u001b[39m\u001b[38;5;124maccuracy\u001b[39m\u001b[38;5;124m'\u001b[39m, tf\u001b[38;5;241m.\u001b[39mkeras\u001b[38;5;241m.\u001b[39mmetrics\u001b[38;5;241m.\u001b[39mAUC(name\u001b[38;5;241m=\u001b[39m\u001b[38;5;124m'\u001b[39m\u001b[38;5;124mauc\u001b[39m\u001b[38;5;124m'\u001b[39m)])\n\u001b[0;32m     15\u001b[0m model\u001b[38;5;241m.\u001b[39msummary()\n\u001b[1;32m---> 17\u001b[0m history \u001b[38;5;241m=\u001b[39m \u001b[43mmodel\u001b[49m\u001b[38;5;241;43m.\u001b[39;49m\u001b[43mfit\u001b[49m\u001b[43m(\u001b[49m\u001b[43mtrain_generator\u001b[49m\u001b[43m,\u001b[49m\u001b[43m \u001b[49m\u001b[43mepochs\u001b[49m\u001b[38;5;241;43m=\u001b[39;49m\u001b[38;5;241;43m10\u001b[39;49m\u001b[43m,\u001b[49m\u001b[43m \u001b[49m\u001b[43mvalidation_data\u001b[49m\u001b[38;5;241;43m=\u001b[39;49m\u001b[43mval_generator\u001b[49m\u001b[43m,\u001b[49m\u001b[43m \u001b[49m\u001b[43mverbose\u001b[49m\u001b[38;5;241;43m=\u001b[39;49m\u001b[38;5;241;43m1\u001b[39;49m\u001b[43m)\u001b[49m\n",
      "File \u001b[1;32m~\\AppData\\Local\\Programs\\Python\\Python312\\Lib\\site-packages\\keras\\src\\utils\\traceback_utils.py:117\u001b[0m, in \u001b[0;36mfilter_traceback.<locals>.error_handler\u001b[1;34m(*args, **kwargs)\u001b[0m\n\u001b[0;32m    115\u001b[0m filtered_tb \u001b[38;5;241m=\u001b[39m \u001b[38;5;28;01mNone\u001b[39;00m\n\u001b[0;32m    116\u001b[0m \u001b[38;5;28;01mtry\u001b[39;00m:\n\u001b[1;32m--> 117\u001b[0m     \u001b[38;5;28;01mreturn\u001b[39;00m \u001b[43mfn\u001b[49m\u001b[43m(\u001b[49m\u001b[38;5;241;43m*\u001b[39;49m\u001b[43margs\u001b[49m\u001b[43m,\u001b[49m\u001b[43m \u001b[49m\u001b[38;5;241;43m*\u001b[39;49m\u001b[38;5;241;43m*\u001b[39;49m\u001b[43mkwargs\u001b[49m\u001b[43m)\u001b[49m\n\u001b[0;32m    118\u001b[0m \u001b[38;5;28;01mexcept\u001b[39;00m \u001b[38;5;167;01mException\u001b[39;00m \u001b[38;5;28;01mas\u001b[39;00m e:\n\u001b[0;32m    119\u001b[0m     filtered_tb \u001b[38;5;241m=\u001b[39m _process_traceback_frames(e\u001b[38;5;241m.\u001b[39m__traceback__)\n",
      "File \u001b[1;32m~\\AppData\\Local\\Programs\\Python\\Python312\\Lib\\site-packages\\keras\\src\\backend\\tensorflow\\trainer.py:401\u001b[0m, in \u001b[0;36mTensorFlowTrainer.fit\u001b[1;34m(self, x, y, batch_size, epochs, verbose, callbacks, validation_split, validation_data, shuffle, class_weight, sample_weight, initial_epoch, steps_per_epoch, validation_steps, validation_batch_size, validation_freq)\u001b[0m\n\u001b[0;32m    390\u001b[0m \u001b[38;5;28;01mif\u001b[39;00m \u001b[38;5;28mgetattr\u001b[39m(\u001b[38;5;28mself\u001b[39m, \u001b[38;5;124m\"\u001b[39m\u001b[38;5;124m_eval_epoch_iterator\u001b[39m\u001b[38;5;124m\"\u001b[39m, \u001b[38;5;28;01mNone\u001b[39;00m) \u001b[38;5;129;01mis\u001b[39;00m \u001b[38;5;28;01mNone\u001b[39;00m:\n\u001b[0;32m    391\u001b[0m     \u001b[38;5;28mself\u001b[39m\u001b[38;5;241m.\u001b[39m_eval_epoch_iterator \u001b[38;5;241m=\u001b[39m TFEpochIterator(\n\u001b[0;32m    392\u001b[0m         x\u001b[38;5;241m=\u001b[39mval_x,\n\u001b[0;32m    393\u001b[0m         y\u001b[38;5;241m=\u001b[39mval_y,\n\u001b[1;32m   (...)\u001b[0m\n\u001b[0;32m    399\u001b[0m         shuffle\u001b[38;5;241m=\u001b[39m\u001b[38;5;28;01mFalse\u001b[39;00m,\n\u001b[0;32m    400\u001b[0m     )\n\u001b[1;32m--> 401\u001b[0m val_logs \u001b[38;5;241m=\u001b[39m \u001b[38;5;28;43mself\u001b[39;49m\u001b[38;5;241;43m.\u001b[39;49m\u001b[43mevaluate\u001b[49m\u001b[43m(\u001b[49m\n\u001b[0;32m    402\u001b[0m \u001b[43m    \u001b[49m\u001b[43mx\u001b[49m\u001b[38;5;241;43m=\u001b[39;49m\u001b[43mval_x\u001b[49m\u001b[43m,\u001b[49m\n\u001b[0;32m    403\u001b[0m \u001b[43m    \u001b[49m\u001b[43my\u001b[49m\u001b[38;5;241;43m=\u001b[39;49m\u001b[43mval_y\u001b[49m\u001b[43m,\u001b[49m\n\u001b[0;32m    404\u001b[0m \u001b[43m    \u001b[49m\u001b[43msample_weight\u001b[49m\u001b[38;5;241;43m=\u001b[39;49m\u001b[43mval_sample_weight\u001b[49m\u001b[43m,\u001b[49m\n\u001b[0;32m    405\u001b[0m \u001b[43m    \u001b[49m\u001b[43mbatch_size\u001b[49m\u001b[38;5;241;43m=\u001b[39;49m\u001b[43mvalidation_batch_size\u001b[49m\u001b[43m \u001b[49m\u001b[38;5;129;43;01mor\u001b[39;49;00m\u001b[43m \u001b[49m\u001b[43mbatch_size\u001b[49m\u001b[43m,\u001b[49m\n\u001b[0;32m    406\u001b[0m \u001b[43m    \u001b[49m\u001b[43msteps\u001b[49m\u001b[38;5;241;43m=\u001b[39;49m\u001b[43mvalidation_steps\u001b[49m\u001b[43m,\u001b[49m\n\u001b[0;32m    407\u001b[0m \u001b[43m    \u001b[49m\u001b[43mcallbacks\u001b[49m\u001b[38;5;241;43m=\u001b[39;49m\u001b[43mcallbacks\u001b[49m\u001b[43m,\u001b[49m\n\u001b[0;32m    408\u001b[0m \u001b[43m    \u001b[49m\u001b[43mreturn_dict\u001b[49m\u001b[38;5;241;43m=\u001b[39;49m\u001b[38;5;28;43;01mTrue\u001b[39;49;00m\u001b[43m,\u001b[49m\n\u001b[0;32m    409\u001b[0m \u001b[43m    \u001b[49m\u001b[43m_use_cached_eval_dataset\u001b[49m\u001b[38;5;241;43m=\u001b[39;49m\u001b[38;5;28;43;01mTrue\u001b[39;49;00m\u001b[43m,\u001b[49m\n\u001b[0;32m    410\u001b[0m \u001b[43m\u001b[49m\u001b[43m)\u001b[49m\n\u001b[0;32m    411\u001b[0m val_logs \u001b[38;5;241m=\u001b[39m {\n\u001b[0;32m    412\u001b[0m     \u001b[38;5;124m\"\u001b[39m\u001b[38;5;124mval_\u001b[39m\u001b[38;5;124m\"\u001b[39m \u001b[38;5;241m+\u001b[39m name: val \u001b[38;5;28;01mfor\u001b[39;00m name, val \u001b[38;5;129;01min\u001b[39;00m val_logs\u001b[38;5;241m.\u001b[39mitems()\n\u001b[0;32m    413\u001b[0m }\n\u001b[0;32m    414\u001b[0m epoch_logs\u001b[38;5;241m.\u001b[39mupdate(val_logs)\n",
      "File \u001b[1;32m~\\AppData\\Local\\Programs\\Python\\Python312\\Lib\\site-packages\\keras\\src\\utils\\traceback_utils.py:117\u001b[0m, in \u001b[0;36mfilter_traceback.<locals>.error_handler\u001b[1;34m(*args, **kwargs)\u001b[0m\n\u001b[0;32m    115\u001b[0m filtered_tb \u001b[38;5;241m=\u001b[39m \u001b[38;5;28;01mNone\u001b[39;00m\n\u001b[0;32m    116\u001b[0m \u001b[38;5;28;01mtry\u001b[39;00m:\n\u001b[1;32m--> 117\u001b[0m     \u001b[38;5;28;01mreturn\u001b[39;00m \u001b[43mfn\u001b[49m\u001b[43m(\u001b[49m\u001b[38;5;241;43m*\u001b[39;49m\u001b[43margs\u001b[49m\u001b[43m,\u001b[49m\u001b[43m \u001b[49m\u001b[38;5;241;43m*\u001b[39;49m\u001b[38;5;241;43m*\u001b[39;49m\u001b[43mkwargs\u001b[49m\u001b[43m)\u001b[49m\n\u001b[0;32m    118\u001b[0m \u001b[38;5;28;01mexcept\u001b[39;00m \u001b[38;5;167;01mException\u001b[39;00m \u001b[38;5;28;01mas\u001b[39;00m e:\n\u001b[0;32m    119\u001b[0m     filtered_tb \u001b[38;5;241m=\u001b[39m _process_traceback_frames(e\u001b[38;5;241m.\u001b[39m__traceback__)\n",
      "File \u001b[1;32m~\\AppData\\Local\\Programs\\Python\\Python312\\Lib\\site-packages\\keras\\src\\backend\\tensorflow\\trainer.py:489\u001b[0m, in \u001b[0;36mTensorFlowTrainer.evaluate\u001b[1;34m(self, x, y, batch_size, verbose, sample_weight, steps, callbacks, return_dict, **kwargs)\u001b[0m\n\u001b[0;32m    487\u001b[0m \u001b[38;5;28;01mfor\u001b[39;00m begin_step, end_step, iterator \u001b[38;5;129;01min\u001b[39;00m epoch_iterator:\n\u001b[0;32m    488\u001b[0m     callbacks\u001b[38;5;241m.\u001b[39mon_test_batch_begin(begin_step)\n\u001b[1;32m--> 489\u001b[0m     logs \u001b[38;5;241m=\u001b[39m \u001b[38;5;28;43mself\u001b[39;49m\u001b[38;5;241;43m.\u001b[39;49m\u001b[43mtest_function\u001b[49m\u001b[43m(\u001b[49m\u001b[43miterator\u001b[49m\u001b[43m)\u001b[49m\n\u001b[0;32m    490\u001b[0m     callbacks\u001b[38;5;241m.\u001b[39mon_test_batch_end(end_step, logs)\n\u001b[0;32m    491\u001b[0m     \u001b[38;5;28;01mif\u001b[39;00m \u001b[38;5;28mself\u001b[39m\u001b[38;5;241m.\u001b[39mstop_evaluating:\n",
      "File \u001b[1;32m~\\AppData\\Local\\Programs\\Python\\Python312\\Lib\\site-packages\\keras\\src\\backend\\tensorflow\\trainer.py:220\u001b[0m, in \u001b[0;36mTensorFlowTrainer._make_function.<locals>.function\u001b[1;34m(iterator)\u001b[0m\n\u001b[0;32m    216\u001b[0m \u001b[38;5;28;01mdef\u001b[39;00m \u001b[38;5;21mfunction\u001b[39m(iterator):\n\u001b[0;32m    217\u001b[0m     \u001b[38;5;28;01mif\u001b[39;00m \u001b[38;5;28misinstance\u001b[39m(\n\u001b[0;32m    218\u001b[0m         iterator, (tf\u001b[38;5;241m.\u001b[39mdata\u001b[38;5;241m.\u001b[39mIterator, tf\u001b[38;5;241m.\u001b[39mdistribute\u001b[38;5;241m.\u001b[39mDistributedIterator)\n\u001b[0;32m    219\u001b[0m     ):\n\u001b[1;32m--> 220\u001b[0m         opt_outputs \u001b[38;5;241m=\u001b[39m \u001b[43mmulti_step_on_iterator\u001b[49m\u001b[43m(\u001b[49m\u001b[43miterator\u001b[49m\u001b[43m)\u001b[49m\n\u001b[0;32m    221\u001b[0m         \u001b[38;5;28;01mif\u001b[39;00m \u001b[38;5;129;01mnot\u001b[39;00m opt_outputs\u001b[38;5;241m.\u001b[39mhas_value():\n\u001b[0;32m    222\u001b[0m             \u001b[38;5;28;01mraise\u001b[39;00m \u001b[38;5;167;01mStopIteration\u001b[39;00m\n",
      "File \u001b[1;32m~\\AppData\\Local\\Programs\\Python\\Python312\\Lib\\site-packages\\tensorflow\\python\\util\\traceback_utils.py:150\u001b[0m, in \u001b[0;36mfilter_traceback.<locals>.error_handler\u001b[1;34m(*args, **kwargs)\u001b[0m\n\u001b[0;32m    148\u001b[0m filtered_tb \u001b[38;5;241m=\u001b[39m \u001b[38;5;28;01mNone\u001b[39;00m\n\u001b[0;32m    149\u001b[0m \u001b[38;5;28;01mtry\u001b[39;00m:\n\u001b[1;32m--> 150\u001b[0m   \u001b[38;5;28;01mreturn\u001b[39;00m \u001b[43mfn\u001b[49m\u001b[43m(\u001b[49m\u001b[38;5;241;43m*\u001b[39;49m\u001b[43margs\u001b[49m\u001b[43m,\u001b[49m\u001b[43m \u001b[49m\u001b[38;5;241;43m*\u001b[39;49m\u001b[38;5;241;43m*\u001b[39;49m\u001b[43mkwargs\u001b[49m\u001b[43m)\u001b[49m\n\u001b[0;32m    151\u001b[0m \u001b[38;5;28;01mexcept\u001b[39;00m \u001b[38;5;167;01mException\u001b[39;00m \u001b[38;5;28;01mas\u001b[39;00m e:\n\u001b[0;32m    152\u001b[0m   filtered_tb \u001b[38;5;241m=\u001b[39m _process_traceback_frames(e\u001b[38;5;241m.\u001b[39m__traceback__)\n",
      "File \u001b[1;32m~\\AppData\\Local\\Programs\\Python\\Python312\\Lib\\site-packages\\tensorflow\\python\\eager\\polymorphic_function\\polymorphic_function.py:833\u001b[0m, in \u001b[0;36mFunction.__call__\u001b[1;34m(self, *args, **kwds)\u001b[0m\n\u001b[0;32m    830\u001b[0m compiler \u001b[38;5;241m=\u001b[39m \u001b[38;5;124m\"\u001b[39m\u001b[38;5;124mxla\u001b[39m\u001b[38;5;124m\"\u001b[39m \u001b[38;5;28;01mif\u001b[39;00m \u001b[38;5;28mself\u001b[39m\u001b[38;5;241m.\u001b[39m_jit_compile \u001b[38;5;28;01melse\u001b[39;00m \u001b[38;5;124m\"\u001b[39m\u001b[38;5;124mnonXla\u001b[39m\u001b[38;5;124m\"\u001b[39m\n\u001b[0;32m    832\u001b[0m \u001b[38;5;28;01mwith\u001b[39;00m OptionalXlaContext(\u001b[38;5;28mself\u001b[39m\u001b[38;5;241m.\u001b[39m_jit_compile):\n\u001b[1;32m--> 833\u001b[0m   result \u001b[38;5;241m=\u001b[39m \u001b[38;5;28;43mself\u001b[39;49m\u001b[38;5;241;43m.\u001b[39;49m\u001b[43m_call\u001b[49m\u001b[43m(\u001b[49m\u001b[38;5;241;43m*\u001b[39;49m\u001b[43margs\u001b[49m\u001b[43m,\u001b[49m\u001b[43m \u001b[49m\u001b[38;5;241;43m*\u001b[39;49m\u001b[38;5;241;43m*\u001b[39;49m\u001b[43mkwds\u001b[49m\u001b[43m)\u001b[49m\n\u001b[0;32m    835\u001b[0m new_tracing_count \u001b[38;5;241m=\u001b[39m \u001b[38;5;28mself\u001b[39m\u001b[38;5;241m.\u001b[39mexperimental_get_tracing_count()\n\u001b[0;32m    836\u001b[0m without_tracing \u001b[38;5;241m=\u001b[39m (tracing_count \u001b[38;5;241m==\u001b[39m new_tracing_count)\n",
      "File \u001b[1;32m~\\AppData\\Local\\Programs\\Python\\Python312\\Lib\\site-packages\\tensorflow\\python\\eager\\polymorphic_function\\polymorphic_function.py:878\u001b[0m, in \u001b[0;36mFunction._call\u001b[1;34m(self, *args, **kwds)\u001b[0m\n\u001b[0;32m    875\u001b[0m \u001b[38;5;28mself\u001b[39m\u001b[38;5;241m.\u001b[39m_lock\u001b[38;5;241m.\u001b[39mrelease()\n\u001b[0;32m    876\u001b[0m \u001b[38;5;66;03m# In this case we have not created variables on the first call. So we can\u001b[39;00m\n\u001b[0;32m    877\u001b[0m \u001b[38;5;66;03m# run the first trace but we should fail if variables are created.\u001b[39;00m\n\u001b[1;32m--> 878\u001b[0m results \u001b[38;5;241m=\u001b[39m \u001b[43mtracing_compilation\u001b[49m\u001b[38;5;241;43m.\u001b[39;49m\u001b[43mcall_function\u001b[49m\u001b[43m(\u001b[49m\n\u001b[0;32m    879\u001b[0m \u001b[43m    \u001b[49m\u001b[43margs\u001b[49m\u001b[43m,\u001b[49m\u001b[43m \u001b[49m\u001b[43mkwds\u001b[49m\u001b[43m,\u001b[49m\u001b[43m \u001b[49m\u001b[38;5;28;43mself\u001b[39;49m\u001b[38;5;241;43m.\u001b[39;49m\u001b[43m_variable_creation_config\u001b[49m\n\u001b[0;32m    880\u001b[0m \u001b[43m\u001b[49m\u001b[43m)\u001b[49m\n\u001b[0;32m    881\u001b[0m \u001b[38;5;28;01mif\u001b[39;00m \u001b[38;5;28mself\u001b[39m\u001b[38;5;241m.\u001b[39m_created_variables:\n\u001b[0;32m    882\u001b[0m   \u001b[38;5;28;01mraise\u001b[39;00m \u001b[38;5;167;01mValueError\u001b[39;00m(\u001b[38;5;124m\"\u001b[39m\u001b[38;5;124mCreating variables on a non-first call to a function\u001b[39m\u001b[38;5;124m\"\u001b[39m\n\u001b[0;32m    883\u001b[0m                    \u001b[38;5;124m\"\u001b[39m\u001b[38;5;124m decorated with tf.function.\u001b[39m\u001b[38;5;124m\"\u001b[39m)\n",
      "File \u001b[1;32m~\\AppData\\Local\\Programs\\Python\\Python312\\Lib\\site-packages\\tensorflow\\python\\eager\\polymorphic_function\\tracing_compilation.py:139\u001b[0m, in \u001b[0;36mcall_function\u001b[1;34m(args, kwargs, tracing_options)\u001b[0m\n\u001b[0;32m    137\u001b[0m bound_args \u001b[38;5;241m=\u001b[39m function\u001b[38;5;241m.\u001b[39mfunction_type\u001b[38;5;241m.\u001b[39mbind(\u001b[38;5;241m*\u001b[39margs, \u001b[38;5;241m*\u001b[39m\u001b[38;5;241m*\u001b[39mkwargs)\n\u001b[0;32m    138\u001b[0m flat_inputs \u001b[38;5;241m=\u001b[39m function\u001b[38;5;241m.\u001b[39mfunction_type\u001b[38;5;241m.\u001b[39munpack_inputs(bound_args)\n\u001b[1;32m--> 139\u001b[0m \u001b[38;5;28;01mreturn\u001b[39;00m \u001b[43mfunction\u001b[49m\u001b[38;5;241;43m.\u001b[39;49m\u001b[43m_call_flat\u001b[49m\u001b[43m(\u001b[49m\u001b[43m  \u001b[49m\u001b[38;5;66;43;03m# pylint: disable=protected-access\u001b[39;49;00m\n\u001b[0;32m    140\u001b[0m \u001b[43m    \u001b[49m\u001b[43mflat_inputs\u001b[49m\u001b[43m,\u001b[49m\u001b[43m \u001b[49m\u001b[43mcaptured_inputs\u001b[49m\u001b[38;5;241;43m=\u001b[39;49m\u001b[43mfunction\u001b[49m\u001b[38;5;241;43m.\u001b[39;49m\u001b[43mcaptured_inputs\u001b[49m\n\u001b[0;32m    141\u001b[0m \u001b[43m\u001b[49m\u001b[43m)\u001b[49m\n",
      "File \u001b[1;32m~\\AppData\\Local\\Programs\\Python\\Python312\\Lib\\site-packages\\tensorflow\\python\\eager\\polymorphic_function\\concrete_function.py:1322\u001b[0m, in \u001b[0;36mConcreteFunction._call_flat\u001b[1;34m(self, tensor_inputs, captured_inputs)\u001b[0m\n\u001b[0;32m   1318\u001b[0m possible_gradient_type \u001b[38;5;241m=\u001b[39m gradients_util\u001b[38;5;241m.\u001b[39mPossibleTapeGradientTypes(args)\n\u001b[0;32m   1319\u001b[0m \u001b[38;5;28;01mif\u001b[39;00m (possible_gradient_type \u001b[38;5;241m==\u001b[39m gradients_util\u001b[38;5;241m.\u001b[39mPOSSIBLE_GRADIENT_TYPES_NONE\n\u001b[0;32m   1320\u001b[0m     \u001b[38;5;129;01mand\u001b[39;00m executing_eagerly):\n\u001b[0;32m   1321\u001b[0m   \u001b[38;5;66;03m# No tape is watching; skip to running the function.\u001b[39;00m\n\u001b[1;32m-> 1322\u001b[0m   \u001b[38;5;28;01mreturn\u001b[39;00m \u001b[38;5;28;43mself\u001b[39;49m\u001b[38;5;241;43m.\u001b[39;49m\u001b[43m_inference_function\u001b[49m\u001b[38;5;241;43m.\u001b[39;49m\u001b[43mcall_preflattened\u001b[49m\u001b[43m(\u001b[49m\u001b[43margs\u001b[49m\u001b[43m)\u001b[49m\n\u001b[0;32m   1323\u001b[0m forward_backward \u001b[38;5;241m=\u001b[39m \u001b[38;5;28mself\u001b[39m\u001b[38;5;241m.\u001b[39m_select_forward_and_backward_functions(\n\u001b[0;32m   1324\u001b[0m     args,\n\u001b[0;32m   1325\u001b[0m     possible_gradient_type,\n\u001b[0;32m   1326\u001b[0m     executing_eagerly)\n\u001b[0;32m   1327\u001b[0m forward_function, args_with_tangents \u001b[38;5;241m=\u001b[39m forward_backward\u001b[38;5;241m.\u001b[39mforward()\n",
      "File \u001b[1;32m~\\AppData\\Local\\Programs\\Python\\Python312\\Lib\\site-packages\\tensorflow\\python\\eager\\polymorphic_function\\atomic_function.py:216\u001b[0m, in \u001b[0;36mAtomicFunction.call_preflattened\u001b[1;34m(self, args)\u001b[0m\n\u001b[0;32m    214\u001b[0m \u001b[38;5;28;01mdef\u001b[39;00m \u001b[38;5;21mcall_preflattened\u001b[39m(\u001b[38;5;28mself\u001b[39m, args: Sequence[core\u001b[38;5;241m.\u001b[39mTensor]) \u001b[38;5;241m-\u001b[39m\u001b[38;5;241m>\u001b[39m Any:\n\u001b[0;32m    215\u001b[0m \u001b[38;5;250m  \u001b[39m\u001b[38;5;124;03m\"\"\"Calls with flattened tensor inputs and returns the structured output.\"\"\"\u001b[39;00m\n\u001b[1;32m--> 216\u001b[0m   flat_outputs \u001b[38;5;241m=\u001b[39m \u001b[38;5;28;43mself\u001b[39;49m\u001b[38;5;241;43m.\u001b[39;49m\u001b[43mcall_flat\u001b[49m\u001b[43m(\u001b[49m\u001b[38;5;241;43m*\u001b[39;49m\u001b[43margs\u001b[49m\u001b[43m)\u001b[49m\n\u001b[0;32m    217\u001b[0m   \u001b[38;5;28;01mreturn\u001b[39;00m \u001b[38;5;28mself\u001b[39m\u001b[38;5;241m.\u001b[39mfunction_type\u001b[38;5;241m.\u001b[39mpack_output(flat_outputs)\n",
      "File \u001b[1;32m~\\AppData\\Local\\Programs\\Python\\Python312\\Lib\\site-packages\\tensorflow\\python\\eager\\polymorphic_function\\atomic_function.py:251\u001b[0m, in \u001b[0;36mAtomicFunction.call_flat\u001b[1;34m(self, *args)\u001b[0m\n\u001b[0;32m    249\u001b[0m \u001b[38;5;28;01mwith\u001b[39;00m record\u001b[38;5;241m.\u001b[39mstop_recording():\n\u001b[0;32m    250\u001b[0m   \u001b[38;5;28;01mif\u001b[39;00m \u001b[38;5;28mself\u001b[39m\u001b[38;5;241m.\u001b[39m_bound_context\u001b[38;5;241m.\u001b[39mexecuting_eagerly():\n\u001b[1;32m--> 251\u001b[0m     outputs \u001b[38;5;241m=\u001b[39m \u001b[38;5;28;43mself\u001b[39;49m\u001b[38;5;241;43m.\u001b[39;49m\u001b[43m_bound_context\u001b[49m\u001b[38;5;241;43m.\u001b[39;49m\u001b[43mcall_function\u001b[49m\u001b[43m(\u001b[49m\n\u001b[0;32m    252\u001b[0m \u001b[43m        \u001b[49m\u001b[38;5;28;43mself\u001b[39;49m\u001b[38;5;241;43m.\u001b[39;49m\u001b[43mname\u001b[49m\u001b[43m,\u001b[49m\n\u001b[0;32m    253\u001b[0m \u001b[43m        \u001b[49m\u001b[38;5;28;43mlist\u001b[39;49m\u001b[43m(\u001b[49m\u001b[43margs\u001b[49m\u001b[43m)\u001b[49m\u001b[43m,\u001b[49m\n\u001b[0;32m    254\u001b[0m \u001b[43m        \u001b[49m\u001b[38;5;28;43mlen\u001b[39;49m\u001b[43m(\u001b[49m\u001b[38;5;28;43mself\u001b[39;49m\u001b[38;5;241;43m.\u001b[39;49m\u001b[43mfunction_type\u001b[49m\u001b[38;5;241;43m.\u001b[39;49m\u001b[43mflat_outputs\u001b[49m\u001b[43m)\u001b[49m\u001b[43m,\u001b[49m\n\u001b[0;32m    255\u001b[0m \u001b[43m    \u001b[49m\u001b[43m)\u001b[49m\n\u001b[0;32m    256\u001b[0m   \u001b[38;5;28;01melse\u001b[39;00m:\n\u001b[0;32m    257\u001b[0m     outputs \u001b[38;5;241m=\u001b[39m make_call_op_in_graph(\n\u001b[0;32m    258\u001b[0m         \u001b[38;5;28mself\u001b[39m,\n\u001b[0;32m    259\u001b[0m         \u001b[38;5;28mlist\u001b[39m(args),\n\u001b[0;32m    260\u001b[0m         \u001b[38;5;28mself\u001b[39m\u001b[38;5;241m.\u001b[39m_bound_context\u001b[38;5;241m.\u001b[39mfunction_call_options\u001b[38;5;241m.\u001b[39mas_attrs(),\n\u001b[0;32m    261\u001b[0m     )\n",
      "File \u001b[1;32m~\\AppData\\Local\\Programs\\Python\\Python312\\Lib\\site-packages\\tensorflow\\python\\eager\\context.py:1688\u001b[0m, in \u001b[0;36mContext.call_function\u001b[1;34m(self, name, tensor_inputs, num_outputs)\u001b[0m\n\u001b[0;32m   1686\u001b[0m cancellation_context \u001b[38;5;241m=\u001b[39m cancellation\u001b[38;5;241m.\u001b[39mcontext()\n\u001b[0;32m   1687\u001b[0m \u001b[38;5;28;01mif\u001b[39;00m cancellation_context \u001b[38;5;129;01mis\u001b[39;00m \u001b[38;5;28;01mNone\u001b[39;00m:\n\u001b[1;32m-> 1688\u001b[0m   outputs \u001b[38;5;241m=\u001b[39m \u001b[43mexecute\u001b[49m\u001b[38;5;241;43m.\u001b[39;49m\u001b[43mexecute\u001b[49m\u001b[43m(\u001b[49m\n\u001b[0;32m   1689\u001b[0m \u001b[43m      \u001b[49m\u001b[43mname\u001b[49m\u001b[38;5;241;43m.\u001b[39;49m\u001b[43mdecode\u001b[49m\u001b[43m(\u001b[49m\u001b[38;5;124;43m\"\u001b[39;49m\u001b[38;5;124;43mutf-8\u001b[39;49m\u001b[38;5;124;43m\"\u001b[39;49m\u001b[43m)\u001b[49m\u001b[43m,\u001b[49m\n\u001b[0;32m   1690\u001b[0m \u001b[43m      \u001b[49m\u001b[43mnum_outputs\u001b[49m\u001b[38;5;241;43m=\u001b[39;49m\u001b[43mnum_outputs\u001b[49m\u001b[43m,\u001b[49m\n\u001b[0;32m   1691\u001b[0m \u001b[43m      \u001b[49m\u001b[43minputs\u001b[49m\u001b[38;5;241;43m=\u001b[39;49m\u001b[43mtensor_inputs\u001b[49m\u001b[43m,\u001b[49m\n\u001b[0;32m   1692\u001b[0m \u001b[43m      \u001b[49m\u001b[43mattrs\u001b[49m\u001b[38;5;241;43m=\u001b[39;49m\u001b[43mattrs\u001b[49m\u001b[43m,\u001b[49m\n\u001b[0;32m   1693\u001b[0m \u001b[43m      \u001b[49m\u001b[43mctx\u001b[49m\u001b[38;5;241;43m=\u001b[39;49m\u001b[38;5;28;43mself\u001b[39;49m\u001b[43m,\u001b[49m\n\u001b[0;32m   1694\u001b[0m \u001b[43m  \u001b[49m\u001b[43m)\u001b[49m\n\u001b[0;32m   1695\u001b[0m \u001b[38;5;28;01melse\u001b[39;00m:\n\u001b[0;32m   1696\u001b[0m   outputs \u001b[38;5;241m=\u001b[39m execute\u001b[38;5;241m.\u001b[39mexecute_with_cancellation(\n\u001b[0;32m   1697\u001b[0m       name\u001b[38;5;241m.\u001b[39mdecode(\u001b[38;5;124m\"\u001b[39m\u001b[38;5;124mutf-8\u001b[39m\u001b[38;5;124m\"\u001b[39m),\n\u001b[0;32m   1698\u001b[0m       num_outputs\u001b[38;5;241m=\u001b[39mnum_outputs,\n\u001b[1;32m   (...)\u001b[0m\n\u001b[0;32m   1702\u001b[0m       cancellation_manager\u001b[38;5;241m=\u001b[39mcancellation_context,\n\u001b[0;32m   1703\u001b[0m   )\n",
      "File \u001b[1;32m~\\AppData\\Local\\Programs\\Python\\Python312\\Lib\\site-packages\\tensorflow\\python\\eager\\execute.py:53\u001b[0m, in \u001b[0;36mquick_execute\u001b[1;34m(op_name, num_outputs, inputs, attrs, ctx, name)\u001b[0m\n\u001b[0;32m     51\u001b[0m \u001b[38;5;28;01mtry\u001b[39;00m:\n\u001b[0;32m     52\u001b[0m   ctx\u001b[38;5;241m.\u001b[39mensure_initialized()\n\u001b[1;32m---> 53\u001b[0m   tensors \u001b[38;5;241m=\u001b[39m \u001b[43mpywrap_tfe\u001b[49m\u001b[38;5;241;43m.\u001b[39;49m\u001b[43mTFE_Py_Execute\u001b[49m\u001b[43m(\u001b[49m\u001b[43mctx\u001b[49m\u001b[38;5;241;43m.\u001b[39;49m\u001b[43m_handle\u001b[49m\u001b[43m,\u001b[49m\u001b[43m \u001b[49m\u001b[43mdevice_name\u001b[49m\u001b[43m,\u001b[49m\u001b[43m \u001b[49m\u001b[43mop_name\u001b[49m\u001b[43m,\u001b[49m\n\u001b[0;32m     54\u001b[0m \u001b[43m                                      \u001b[49m\u001b[43minputs\u001b[49m\u001b[43m,\u001b[49m\u001b[43m \u001b[49m\u001b[43mattrs\u001b[49m\u001b[43m,\u001b[49m\u001b[43m \u001b[49m\u001b[43mnum_outputs\u001b[49m\u001b[43m)\u001b[49m\n\u001b[0;32m     55\u001b[0m \u001b[38;5;28;01mexcept\u001b[39;00m core\u001b[38;5;241m.\u001b[39m_NotOkStatusException \u001b[38;5;28;01mas\u001b[39;00m e:\n\u001b[0;32m     56\u001b[0m   \u001b[38;5;28;01mif\u001b[39;00m name \u001b[38;5;129;01mis\u001b[39;00m \u001b[38;5;129;01mnot\u001b[39;00m \u001b[38;5;28;01mNone\u001b[39;00m:\n",
      "\u001b[1;31mKeyboardInterrupt\u001b[0m: "
     ]
    }
   ],
   "source": [
    "model = Sequential([\n",
    "    Conv2D(32, (3, 3), activation='relu', input_shape=(96, 96, 3)),\n",
    "    MaxPooling2D((2, 2)),\n",
    "    Conv2D(64, (3, 3), activation='relu'),\n",
    "    MaxPooling2D((2, 2)),\n",
    "    Conv2D(128, (3, 3), activation='relu'),\n",
    "    MaxPooling2D((2, 2)),\n",
    "    Flatten(),\n",
    "    Dense(128, activation='relu'),\n",
    "    Dropout(0.5),\n",
    "    Dense(1, activation='sigmoid')\n",
    "])\n",
    "\n",
    "model.compile(optimizer='adam', loss='binary_crossentropy', metrics=['accuracy', tf.keras.metrics.AUC(name='auc')])\n",
    "model.summary()\n",
    "\n",
    "history = model.fit(train_generator, epochs=10, validation_data=val_generator, verbose=1)"
   ]
  },
  {
   "cell_type": "markdown",
   "id": "955a21d3-1a86-4d08-b9f7-040e00603b41",
   "metadata": {},
   "source": [
    "### 1.8 Model Evaluation"
   ]
  },
  {
   "cell_type": "code",
   "execution_count": 15,
   "id": "14798cc2-be3e-4984-9733-72fb5adafcfb",
   "metadata": {},
   "outputs": [
    {
     "name": "stdout",
     "output_type": "stream",
     "text": [
      "Epoch 1/10\n",
      "\u001b[1m500/500\u001b[0m \u001b[32m━━━━━━━━━━━━━━━━━━━━\u001b[0m\u001b[37m\u001b[0m \u001b[1m40s\u001b[0m 80ms/step - accuracy: 0.7926 - auc: 0.8658 - loss: 0.4622 - val_accuracy: 0.7895 - val_auc: 0.8653 - val_loss: 0.4769\n",
      "Epoch 2/10\n",
      "\u001b[1m500/500\u001b[0m \u001b[32m━━━━━━━━━━━━━━━━━━━━\u001b[0m\u001b[37m\u001b[0m \u001b[1m40s\u001b[0m 80ms/step - accuracy: 0.7885 - auc: 0.8655 - loss: 0.4605 - val_accuracy: 0.7730 - val_auc: 0.8573 - val_loss: 0.5203\n",
      "Epoch 3/10\n",
      "\u001b[1m500/500\u001b[0m \u001b[32m━━━━━━━━━━━━━━━━━━━━\u001b[0m\u001b[37m\u001b[0m \u001b[1m41s\u001b[0m 82ms/step - accuracy: 0.8018 - auc: 0.8768 - loss: 0.4443 - val_accuracy: 0.8070 - val_auc: 0.8840 - val_loss: 0.4369\n",
      "Epoch 4/10\n",
      "\u001b[1m500/500\u001b[0m \u001b[32m━━━━━━━━━━━━━━━━━━━━\u001b[0m\u001b[37m\u001b[0m \u001b[1m42s\u001b[0m 83ms/step - accuracy: 0.8006 - auc: 0.8749 - loss: 0.4477 - val_accuracy: 0.8165 - val_auc: 0.8955 - val_loss: 0.4229\n",
      "Epoch 5/10\n",
      "\u001b[1m500/500\u001b[0m \u001b[32m━━━━━━━━━━━━━━━━━━━━\u001b[0m\u001b[37m\u001b[0m \u001b[1m40s\u001b[0m 80ms/step - accuracy: 0.8026 - auc: 0.8839 - loss: 0.4330 - val_accuracy: 0.8145 - val_auc: 0.8895 - val_loss: 0.4242\n",
      "Epoch 6/10\n",
      "\u001b[1m500/500\u001b[0m \u001b[32m━━━━━━━━━━━━━━━━━━━━\u001b[0m\u001b[37m\u001b[0m \u001b[1m40s\u001b[0m 80ms/step - accuracy: 0.8176 - auc: 0.8896 - loss: 0.4220 - val_accuracy: 0.8135 - val_auc: 0.8881 - val_loss: 0.4280\n",
      "Epoch 7/10\n",
      "\u001b[1m500/500\u001b[0m \u001b[32m━━━━━━━━━━━━━━━━━━━━\u001b[0m\u001b[37m\u001b[0m \u001b[1m40s\u001b[0m 81ms/step - accuracy: 0.8176 - auc: 0.8957 - loss: 0.4102 - val_accuracy: 0.8035 - val_auc: 0.8944 - val_loss: 0.4397\n",
      "Epoch 8/10\n",
      "\u001b[1m500/500\u001b[0m \u001b[32m━━━━━━━━━━━━━━━━━━━━\u001b[0m\u001b[37m\u001b[0m \u001b[1m40s\u001b[0m 80ms/step - accuracy: 0.8201 - auc: 0.8977 - loss: 0.4062 - val_accuracy: 0.8175 - val_auc: 0.8967 - val_loss: 0.4139\n",
      "Epoch 9/10\n",
      "\u001b[1m500/500\u001b[0m \u001b[32m━━━━━━━━━━━━━━━━━━━━\u001b[0m\u001b[37m\u001b[0m \u001b[1m40s\u001b[0m 80ms/step - accuracy: 0.8179 - auc: 0.8979 - loss: 0.4057 - val_accuracy: 0.8245 - val_auc: 0.9052 - val_loss: 0.4001\n",
      "Epoch 10/10\n",
      "\u001b[1m500/500\u001b[0m \u001b[32m━━━━━━━━━━━━━━━━━━━━\u001b[0m\u001b[37m\u001b[0m \u001b[1m41s\u001b[0m 81ms/step - accuracy: 0.8253 - auc: 0.9021 - loss: 0.3978 - val_accuracy: 0.8375 - val_auc: 0.9114 - val_loss: 0.3838\n"
     ]
    },
    {
     "data": {
      "image/png": "[encoded data removed]",
      "text/plain": [
       "<Figure size 1200x400 with 2 Axes>"
      ]
     },
     "metadata": {},
     "output_type": "display_data"
    },
    {
     "name": "stdout",
     "output_type": "stream",
     "text": [
      "\u001b[1m125/125\u001b[0m \u001b[32m━━━━━━━━━━━━━━━━━━━━\u001b[0m\u001b[37m\u001b[0m \u001b[1m6s\u001b[0m 43ms/step\n",
      "\n",
      "Validation Classification Report:\n"
     ]
    },
    {
     "ename": "TypeError",
     "evalue": "Labels in y_true and y_pred should be of the same type. Got y_true=['0' '1'] and y_pred=[0 1]. Make sure that the predictions provided by the classifier coincides with the true labels.",
     "output_type": "error",
     "traceback": [
      "\u001b[1;31m---------------------------------------------------------------------------\u001b[0m",
      "\u001b[1;31mTypeError\u001b[0m                                 Traceback (most recent call last)",
      "File \u001b[1;32m~\\AppData\\Local\\Programs\\Python\\Python312\\Lib\\site-packages\\sklearn\\metrics\\_classification.py:126\u001b[0m, in \u001b[0;36m_check_targets\u001b[1;34m(y_true, y_pred)\u001b[0m\n\u001b[0;32m    125\u001b[0m \u001b[38;5;28;01mtry\u001b[39;00m:\n\u001b[1;32m--> 126\u001b[0m     unique_values \u001b[38;5;241m=\u001b[39m \u001b[43m_union1d\u001b[49m\u001b[43m(\u001b[49m\u001b[43my_true\u001b[49m\u001b[43m,\u001b[49m\u001b[43m \u001b[49m\u001b[43my_pred\u001b[49m\u001b[43m,\u001b[49m\u001b[43m \u001b[49m\u001b[43mxp\u001b[49m\u001b[43m)\u001b[49m\n\u001b[0;32m    127\u001b[0m \u001b[38;5;28;01mexcept\u001b[39;00m \u001b[38;5;167;01mTypeError\u001b[39;00m \u001b[38;5;28;01mas\u001b[39;00m e:\n\u001b[0;32m    128\u001b[0m     \u001b[38;5;66;03m# We expect y_true and y_pred to be of the same data type.\u001b[39;00m\n\u001b[0;32m    129\u001b[0m     \u001b[38;5;66;03m# If `y_true` was provided to the classifier as strings,\u001b[39;00m\n\u001b[0;32m    130\u001b[0m     \u001b[38;5;66;03m# `y_pred` given by the classifier will also be encoded with\u001b[39;00m\n\u001b[0;32m    131\u001b[0m     \u001b[38;5;66;03m# strings. So we raise a meaningful error\u001b[39;00m\n",
      "File \u001b[1;32m~\\AppData\\Local\\Programs\\Python\\Python312\\Lib\\site-packages\\sklearn\\utils\\_array_api.py:220\u001b[0m, in \u001b[0;36m_union1d\u001b[1;34m(a, b, xp)\u001b[0m\n\u001b[0;32m    219\u001b[0m     a_unique, b_unique \u001b[38;5;241m=\u001b[39m cached_unique(a, b, xp\u001b[38;5;241m=\u001b[39mxp)\n\u001b[1;32m--> 220\u001b[0m     \u001b[38;5;28;01mreturn\u001b[39;00m xp\u001b[38;5;241m.\u001b[39masarray(\u001b[43mnumpy\u001b[49m\u001b[38;5;241;43m.\u001b[39;49m\u001b[43munion1d\u001b[49m\u001b[43m(\u001b[49m\u001b[43ma_unique\u001b[49m\u001b[43m,\u001b[49m\u001b[43m \u001b[49m\u001b[43mb_unique\u001b[49m\u001b[43m)\u001b[49m)\n\u001b[0;32m    221\u001b[0m \u001b[38;5;28;01massert\u001b[39;00m a\u001b[38;5;241m.\u001b[39mndim \u001b[38;5;241m==\u001b[39m b\u001b[38;5;241m.\u001b[39mndim \u001b[38;5;241m==\u001b[39m \u001b[38;5;241m1\u001b[39m\n",
      "File \u001b[1;32m~\\AppData\\Local\\Programs\\Python\\Python312\\Lib\\site-packages\\numpy\\lib\\_arraysetops_impl.py:1170\u001b[0m, in \u001b[0;36munion1d\u001b[1;34m(ar1, ar2)\u001b[0m\n\u001b[0;32m   1142\u001b[0m \u001b[38;5;250m\u001b[39m\u001b[38;5;124;03m\"\"\"\u001b[39;00m\n\u001b[0;32m   1143\u001b[0m \u001b[38;5;124;03mFind the union of two arrays.\u001b[39;00m\n\u001b[0;32m   1144\u001b[0m \n\u001b[1;32m   (...)\u001b[0m\n\u001b[0;32m   1168\u001b[0m \u001b[38;5;124;03marray([1, 2, 3, 4, 6])\u001b[39;00m\n\u001b[0;32m   1169\u001b[0m \u001b[38;5;124;03m\"\"\"\u001b[39;00m\n\u001b[1;32m-> 1170\u001b[0m \u001b[38;5;28;01mreturn\u001b[39;00m \u001b[43munique\u001b[49m\u001b[43m(\u001b[49m\u001b[43mnp\u001b[49m\u001b[38;5;241;43m.\u001b[39;49m\u001b[43mconcatenate\u001b[49m\u001b[43m(\u001b[49m\u001b[43m(\u001b[49m\u001b[43mar1\u001b[49m\u001b[43m,\u001b[49m\u001b[43m \u001b[49m\u001b[43mar2\u001b[49m\u001b[43m)\u001b[49m\u001b[43m,\u001b[49m\u001b[43m \u001b[49m\u001b[43maxis\u001b[49m\u001b[38;5;241;43m=\u001b[39;49m\u001b[38;5;28;43;01mNone\u001b[39;49;00m\u001b[43m)\u001b[49m\u001b[43m)\u001b[49m\n",
      "File \u001b[1;32m~\\AppData\\Local\\Programs\\Python\\Python312\\Lib\\site-packages\\numpy\\lib\\_arraysetops_impl.py:286\u001b[0m, in \u001b[0;36munique\u001b[1;34m(ar, return_index, return_inverse, return_counts, axis, equal_nan)\u001b[0m\n\u001b[0;32m    285\u001b[0m \u001b[38;5;28;01mif\u001b[39;00m axis \u001b[38;5;129;01mis\u001b[39;00m \u001b[38;5;28;01mNone\u001b[39;00m:\n\u001b[1;32m--> 286\u001b[0m     ret \u001b[38;5;241m=\u001b[39m \u001b[43m_unique1d\u001b[49m\u001b[43m(\u001b[49m\u001b[43mar\u001b[49m\u001b[43m,\u001b[49m\u001b[43m \u001b[49m\u001b[43mreturn_index\u001b[49m\u001b[43m,\u001b[49m\u001b[43m \u001b[49m\u001b[43mreturn_inverse\u001b[49m\u001b[43m,\u001b[49m\u001b[43m \u001b[49m\u001b[43mreturn_counts\u001b[49m\u001b[43m,\u001b[49m\n\u001b[0;32m    287\u001b[0m \u001b[43m                    \u001b[49m\u001b[43mequal_nan\u001b[49m\u001b[38;5;241;43m=\u001b[39;49m\u001b[43mequal_nan\u001b[49m\u001b[43m,\u001b[49m\u001b[43m \u001b[49m\u001b[43minverse_shape\u001b[49m\u001b[38;5;241;43m=\u001b[39;49m\u001b[43mar\u001b[49m\u001b[38;5;241;43m.\u001b[39;49m\u001b[43mshape\u001b[49m\u001b[43m,\u001b[49m\u001b[43m \u001b[49m\u001b[43maxis\u001b[49m\u001b[38;5;241;43m=\u001b[39;49m\u001b[38;5;28;43;01mNone\u001b[39;49;00m\u001b[43m)\u001b[49m\n\u001b[0;32m    288\u001b[0m     \u001b[38;5;28;01mreturn\u001b[39;00m _unpack_tuple(ret)\n",
      "File \u001b[1;32m~\\AppData\\Local\\Programs\\Python\\Python312\\Lib\\site-packages\\numpy\\lib\\_arraysetops_impl.py:353\u001b[0m, in \u001b[0;36m_unique1d\u001b[1;34m(ar, return_index, return_inverse, return_counts, equal_nan, inverse_shape, axis)\u001b[0m\n\u001b[0;32m    352\u001b[0m \u001b[38;5;28;01melse\u001b[39;00m:\n\u001b[1;32m--> 353\u001b[0m     \u001b[43mar\u001b[49m\u001b[38;5;241;43m.\u001b[39;49m\u001b[43msort\u001b[49m\u001b[43m(\u001b[49m\u001b[43m)\u001b[49m\n\u001b[0;32m    354\u001b[0m     aux \u001b[38;5;241m=\u001b[39m ar\n",
      "\u001b[1;31mTypeError\u001b[0m: '<' not supported between instances of 'int' and 'str'",
      "\nThe above exception was the direct cause of the following exception:\n",
      "\u001b[1;31mTypeError\u001b[0m                                 Traceback (most recent call last)",
      "Cell \u001b[1;32mIn[15], line 25\u001b[0m\n\u001b[0;32m     23\u001b[0m val_labels \u001b[38;5;241m=\u001b[39m val_df[\u001b[38;5;124m'\u001b[39m\u001b[38;5;124mlabel\u001b[39m\u001b[38;5;124m'\u001b[39m]\u001b[38;5;241m.\u001b[39mvalues\n\u001b[0;32m     24\u001b[0m \u001b[38;5;28mprint\u001b[39m(\u001b[38;5;124m\"\u001b[39m\u001b[38;5;130;01m\\n\u001b[39;00m\u001b[38;5;124mValidation Classification Report:\u001b[39m\u001b[38;5;124m\"\u001b[39m)\n\u001b[1;32m---> 25\u001b[0m \u001b[38;5;28mprint\u001b[39m(\u001b[43mclassification_report\u001b[49m\u001b[43m(\u001b[49m\u001b[43mval_labels\u001b[49m\u001b[43m,\u001b[49m\u001b[43m \u001b[49m\u001b[43mval_preds_binary\u001b[49m\u001b[43m)\u001b[49m)\n\u001b[0;32m     26\u001b[0m \u001b[38;5;28mprint\u001b[39m(\u001b[38;5;124m\"\u001b[39m\u001b[38;5;124mValidation AUC:\u001b[39m\u001b[38;5;124m\"\u001b[39m, roc_auc_score(val_labels, val_preds))\n\u001b[0;32m     28\u001b[0m cm \u001b[38;5;241m=\u001b[39m confusion_matrix(val_labels, val_preds_binary)\n",
      "File \u001b[1;32m~\\AppData\\Local\\Programs\\Python\\Python312\\Lib\\site-packages\\sklearn\\utils\\_param_validation.py:216\u001b[0m, in \u001b[0;36mvalidate_params.<locals>.decorator.<locals>.wrapper\u001b[1;34m(*args, **kwargs)\u001b[0m\n\u001b[0;32m    210\u001b[0m \u001b[38;5;28;01mtry\u001b[39;00m:\n\u001b[0;32m    211\u001b[0m     \u001b[38;5;28;01mwith\u001b[39;00m config_context(\n\u001b[0;32m    212\u001b[0m         skip_parameter_validation\u001b[38;5;241m=\u001b[39m(\n\u001b[0;32m    213\u001b[0m             prefer_skip_nested_validation \u001b[38;5;129;01mor\u001b[39;00m global_skip_validation\n\u001b[0;32m    214\u001b[0m         )\n\u001b[0;32m    215\u001b[0m     ):\n\u001b[1;32m--> 216\u001b[0m         \u001b[38;5;28;01mreturn\u001b[39;00m \u001b[43mfunc\u001b[49m\u001b[43m(\u001b[49m\u001b[38;5;241;43m*\u001b[39;49m\u001b[43margs\u001b[49m\u001b[43m,\u001b[49m\u001b[43m \u001b[49m\u001b[38;5;241;43m*\u001b[39;49m\u001b[38;5;241;43m*\u001b[39;49m\u001b[43mkwargs\u001b[49m\u001b[43m)\u001b[49m\n\u001b[0;32m    217\u001b[0m \u001b[38;5;28;01mexcept\u001b[39;00m InvalidParameterError \u001b[38;5;28;01mas\u001b[39;00m e:\n\u001b[0;32m    218\u001b[0m     \u001b[38;5;66;03m# When the function is just a wrapper around an estimator, we allow\u001b[39;00m\n\u001b[0;32m    219\u001b[0m     \u001b[38;5;66;03m# the function to delegate validation to the estimator, but we replace\u001b[39;00m\n\u001b[0;32m    220\u001b[0m     \u001b[38;5;66;03m# the name of the estimator by the name of the function in the error\u001b[39;00m\n\u001b[0;32m    221\u001b[0m     \u001b[38;5;66;03m# message to avoid confusion.\u001b[39;00m\n\u001b[0;32m    222\u001b[0m     msg \u001b[38;5;241m=\u001b[39m re\u001b[38;5;241m.\u001b[39msub(\n\u001b[0;32m    223\u001b[0m         \u001b[38;5;124mr\u001b[39m\u001b[38;5;124m\"\u001b[39m\u001b[38;5;124mparameter of \u001b[39m\u001b[38;5;124m\\\u001b[39m\u001b[38;5;124mw+ must be\u001b[39m\u001b[38;5;124m\"\u001b[39m,\n\u001b[0;32m    224\u001b[0m         \u001b[38;5;124mf\u001b[39m\u001b[38;5;124m\"\u001b[39m\u001b[38;5;124mparameter of \u001b[39m\u001b[38;5;132;01m{\u001b[39;00mfunc\u001b[38;5;241m.\u001b[39m\u001b[38;5;18m__qualname__\u001b[39m\u001b[38;5;132;01m}\u001b[39;00m\u001b[38;5;124m must be\u001b[39m\u001b[38;5;124m\"\u001b[39m,\n\u001b[0;32m    225\u001b[0m         \u001b[38;5;28mstr\u001b[39m(e),\n\u001b[0;32m    226\u001b[0m     )\n",
      "File \u001b[1;32m~\\AppData\\Local\\Programs\\Python\\Python312\\Lib\\site-packages\\sklearn\\metrics\\_classification.py:2671\u001b[0m, in \u001b[0;36mclassification_report\u001b[1;34m(y_true, y_pred, labels, target_names, sample_weight, digits, output_dict, zero_division)\u001b[0m\n\u001b[0;32m   2563\u001b[0m \u001b[38;5;250m\u001b[39m\u001b[38;5;124;03m\"\"\"Build a text report showing the main classification metrics.\u001b[39;00m\n\u001b[0;32m   2564\u001b[0m \n\u001b[0;32m   2565\u001b[0m \u001b[38;5;124;03mRead more in the :ref:`User Guide <classification_report>`.\u001b[39;00m\n\u001b[1;32m   (...)\u001b[0m\n\u001b[0;32m   2667\u001b[0m \u001b[38;5;124;03m<BLANKLINE>\u001b[39;00m\n\u001b[0;32m   2668\u001b[0m \u001b[38;5;124;03m\"\"\"\u001b[39;00m\n\u001b[0;32m   2670\u001b[0m y_true, y_pred \u001b[38;5;241m=\u001b[39m attach_unique(y_true, y_pred)\n\u001b[1;32m-> 2671\u001b[0m y_type, y_true, y_pred \u001b[38;5;241m=\u001b[39m \u001b[43m_check_targets\u001b[49m\u001b[43m(\u001b[49m\u001b[43my_true\u001b[49m\u001b[43m,\u001b[49m\u001b[43m \u001b[49m\u001b[43my_pred\u001b[49m\u001b[43m)\u001b[49m\n\u001b[0;32m   2673\u001b[0m \u001b[38;5;28;01mif\u001b[39;00m labels \u001b[38;5;129;01mis\u001b[39;00m \u001b[38;5;28;01mNone\u001b[39;00m:\n\u001b[0;32m   2674\u001b[0m     labels \u001b[38;5;241m=\u001b[39m unique_labels(y_true, y_pred)\n",
      "File \u001b[1;32m~\\AppData\\Local\\Programs\\Python\\Python312\\Lib\\site-packages\\sklearn\\metrics\\_classification.py:132\u001b[0m, in \u001b[0;36m_check_targets\u001b[1;34m(y_true, y_pred)\u001b[0m\n\u001b[0;32m    126\u001b[0m     unique_values \u001b[38;5;241m=\u001b[39m _union1d(y_true, y_pred, xp)\n\u001b[0;32m    127\u001b[0m \u001b[38;5;28;01mexcept\u001b[39;00m \u001b[38;5;167;01mTypeError\u001b[39;00m \u001b[38;5;28;01mas\u001b[39;00m e:\n\u001b[0;32m    128\u001b[0m     \u001b[38;5;66;03m# We expect y_true and y_pred to be of the same data type.\u001b[39;00m\n\u001b[0;32m    129\u001b[0m     \u001b[38;5;66;03m# If `y_true` was provided to the classifier as strings,\u001b[39;00m\n\u001b[0;32m    130\u001b[0m     \u001b[38;5;66;03m# `y_pred` given by the classifier will also be encoded with\u001b[39;00m\n\u001b[0;32m    131\u001b[0m     \u001b[38;5;66;03m# strings. So we raise a meaningful error\u001b[39;00m\n\u001b[1;32m--> 132\u001b[0m     \u001b[38;5;28;01mraise\u001b[39;00m \u001b[38;5;167;01mTypeError\u001b[39;00m(\n\u001b[0;32m    133\u001b[0m         \u001b[38;5;124m\"\u001b[39m\u001b[38;5;124mLabels in y_true and y_pred should be of the same type. \u001b[39m\u001b[38;5;124m\"\u001b[39m\n\u001b[0;32m    134\u001b[0m         \u001b[38;5;124mf\u001b[39m\u001b[38;5;124m\"\u001b[39m\u001b[38;5;124mGot y_true=\u001b[39m\u001b[38;5;132;01m{\u001b[39;00mxp\u001b[38;5;241m.\u001b[39munique(y_true)\u001b[38;5;132;01m}\u001b[39;00m\u001b[38;5;124m and \u001b[39m\u001b[38;5;124m\"\u001b[39m\n\u001b[0;32m    135\u001b[0m         \u001b[38;5;124mf\u001b[39m\u001b[38;5;124m\"\u001b[39m\u001b[38;5;124my_pred=\u001b[39m\u001b[38;5;132;01m{\u001b[39;00mxp\u001b[38;5;241m.\u001b[39munique(y_pred)\u001b[38;5;132;01m}\u001b[39;00m\u001b[38;5;124m. Make sure that the \u001b[39m\u001b[38;5;124m\"\u001b[39m\n\u001b[0;32m    136\u001b[0m         \u001b[38;5;124m\"\u001b[39m\u001b[38;5;124mpredictions provided by the classifier coincides with \u001b[39m\u001b[38;5;124m\"\u001b[39m\n\u001b[0;32m    137\u001b[0m         \u001b[38;5;124m\"\u001b[39m\u001b[38;5;124mthe true labels.\u001b[39m\u001b[38;5;124m\"\u001b[39m\n\u001b[0;32m    138\u001b[0m     ) \u001b[38;5;28;01mfrom\u001b[39;00m \u001b[38;5;21;01me\u001b[39;00m\n\u001b[0;32m    139\u001b[0m \u001b[38;5;28;01mif\u001b[39;00m unique_values\u001b[38;5;241m.\u001b[39mshape[\u001b[38;5;241m0\u001b[39m] \u001b[38;5;241m>\u001b[39m \u001b[38;5;241m2\u001b[39m:\n\u001b[0;32m    140\u001b[0m     y_type \u001b[38;5;241m=\u001b[39m \u001b[38;5;124m\"\u001b[39m\u001b[38;5;124mmulticlass\u001b[39m\u001b[38;5;124m\"\u001b[39m\n",
      "\u001b[1;31mTypeError\u001b[0m: Labels in y_true and y_pred should be of the same type. Got y_true=['0' '1'] and y_pred=[0 1]. Make sure that the predictions provided by the classifier coincides with the true labels."
     ]
    }
   ],
   "source": [
    "history = model.fit(train_generator, epochs=10, validation_data=val_generator, verbose=1)\n",
    "\n",
    "def plot_history(history):\n",
    "    fig, (ax1, ax2) = plt.subplots(1, 2, figsize=(12, 4))\n",
    "    ax1.plot(history.history['accuracy'], label='Train Accuracy')\n",
    "    ax1.plot(history.history['val_accuracy'], label='Val Accuracy')\n",
    "    ax1.set_title('Model Accuracy')\n",
    "    ax1.set_xlabel('Epoch')\n",
    "    ax1.set_ylabel('Accuracy')\n",
    "    ax1.legend()\n",
    "    ax2.plot(history.history['auc'], label='Train AUC')\n",
    "    ax2.plot(history.history['val_auc'], label='Val AUC')\n",
    "    ax2.set_title('Model AUC')\n",
    "    ax2.set_xlabel('Epoch')\n",
    "    ax2.set_ylabel('AUC')\n",
    "    ax2.legend()\n",
    "    plt.show()\n",
    "\n",
    "plot_history(history)\n",
    "\n",
    "val_preds = model.predict(val_generator)\n",
    "val_preds_binary = (val_preds > 0.5).astype(int)\n",
    "val_labels = val_df['label'].values\n",
    "print(\"\\nValidation Classification Report:\")\n",
    "print(classification_report(val_labels, val_preds_binary))\n",
    "print(\"Validation AUC:\", roc_auc_score(val_labels, val_preds))\n",
    "\n",
    "cm = confusion_matrix(val_labels, val_preds_binary)\n",
    "sns.heatmap(cm, annot=True, fmt='d', cmap='Blues')\n",
    "plt.title(\"Confusion Matrix\")\n",
    "plt.xlabel(\"Predicted\")\n",
    "plt.ylabel(\"True\")\n",
    "plt.show()"
   ]
  },
  {
   "cell_type": "markdown",
   "id": "f8af5ebc-bae0-47a9-8465-d0bc01ae851a",
   "metadata": {},
   "source": [
    "### 1.9 Generate Submission File"
   ]
  },
  {
   "cell_type": "code",
   "execution_count": 16,
   "id": "33444f80-d001-4cd8-9a50-acc755882e8f",
   "metadata": {},
   "outputs": [
    {
     "name": "stdout",
     "output_type": "stream",
     "text": [
      "Found 57457 validated image filenames.\n"
     ]
    },
    {
     "name": "stderr",
     "output_type": "stream",
     "text": [
      "C:\\Users\\Administrator\\AppData\\Local\\Programs\\Python\\Python312\\Lib\\site-packages\\keras\\src\\trainers\\data_adapters\\py_dataset_adapter.py:121: UserWarning: Your `PyDataset` class should call `super().__init__(**kwargs)` in its constructor. `**kwargs` can include `workers`, `use_multiprocessing`, `max_queue_size`. Do not pass these arguments to `fit()`, as they will be ignored.\n",
      "  self._warn_if_super_not_called()\n"
     ]
    },
    {
     "name": "stdout",
     "output_type": "stream",
     "text": [
      "\u001b[1m3592/3592\u001b[0m \u001b[32m━━━━━━━━━━━━━━━━━━━━\u001b[0m\u001b[37m\u001b[0m \u001b[1m443s\u001b[0m 123ms/step\n",
      "Submission file saved as submission.csv\n"
     ]
    },
    {
     "data": {
      "text/html": [
       "<div>\n",
       "<style scoped>\n",
       "    .dataframe tbody tr th:only-of-type {\n",
       "        vertical-align: middle;\n",
       "    }\n",
       "\n",
       "    .dataframe tbody tr th {\n",
       "        vertical-align: top;\n",
       "    }\n",
       "\n",
       "    .dataframe thead th {\n",
       "        text-align: right;\n",
       "    }\n",
       "</style>\n",
       "<table border=\"1\" class=\"dataframe\">\n",
       "  <thead>\n",
       "    <tr style=\"text-align: right;\">\n",
       "      <th></th>\n",
       "      <th>id</th>\n",
       "      <th>label</th>\n",
       "    </tr>\n",
       "  </thead>\n",
       "  <tbody>\n",
       "    <tr>\n",
       "      <th>0</th>\n",
       "      <td>0000ec92553fda4ce39889f9226ace43cae3364e</td>\n",
       "      <td>1</td>\n",
       "    </tr>\n",
       "    <tr>\n",
       "      <th>1</th>\n",
       "      <td>00024a6dee61f12f7856b0fc6be20bc7a48ba3d2</td>\n",
       "      <td>0</td>\n",
       "    </tr>\n",
       "    <tr>\n",
       "      <th>2</th>\n",
       "      <td>000253dfaa0be9d0d100283b22284ab2f6b643f6</td>\n",
       "      <td>1</td>\n",
       "    </tr>\n",
       "    <tr>\n",
       "      <th>3</th>\n",
       "      <td>000270442cc15af719583a8172c87cd2bd9c7746</td>\n",
       "      <td>0</td>\n",
       "    </tr>\n",
       "    <tr>\n",
       "      <th>4</th>\n",
       "      <td>000309e669fa3b18fb0ed6a253a2850cce751a95</td>\n",
       "      <td>0</td>\n",
       "    </tr>\n",
       "  </tbody>\n",
       "</table>\n",
       "</div>"
      ],
      "text/plain": [
       "                                         id  label\n",
       "0  0000ec92553fda4ce39889f9226ace43cae3364e      1\n",
       "1  00024a6dee61f12f7856b0fc6be20bc7a48ba3d2      0\n",
       "2  000253dfaa0be9d0d100283b22284ab2f6b643f6      1\n",
       "3  000270442cc15af719583a8172c87cd2bd9c7746      0\n",
       "4  000309e669fa3b18fb0ed6a253a2850cce751a95      0"
      ]
     },
     "execution_count": 16,
     "metadata": {},
     "output_type": "execute_result"
    }
   ],
   "source": [
    "test_files = pd.DataFrame({'id': [f for f in os.listdir(test_path) if f.endswith('.tif')]})\n",
    "test_datagen = ImageDataGenerator(rescale=1./255)\n",
    "test_generator = test_datagen.flow_from_dataframe(\n",
    "    dataframe=test_files,\n",
    "    directory=test_path,\n",
    "    x_col='id',\n",
    "    y_col=None,\n",
    "    target_size=(96, 96),\n",
    "    batch_size=16,\n",
    "    class_mode=None,\n",
    "    shuffle=False\n",
    ")\n",
    "\n",
    "test_preds = model.predict(test_generator)\n",
    "test_preds_binary = (test_preds > 0.5).astype(int)\n",
    "submission = pd.DataFrame({\n",
    "    'id': [f.split('.')[0] for f in test_files['id']],\n",
    "    'label': test_preds_binary.flatten()\n",
    "})\n",
    "submission.to_csv('submission.csv', index=False)\n",
    "print(\"Submission file saved as submission.csv\")\n",
    "submission.head()"
   ]
  },
  {
   "cell_type": "markdown",
   "id": "eb5c6e46-0082-4128-a4ed-89c7adcc7b37",
   "metadata": {},
   "source": [
    "### 1.10 Conclusion"
   ]
  },
  {
   "cell_type": "markdown",
   "id": "e644fd28-7e00-46ea-a337-d98542932e67",
   "metadata": {},
   "source": [
    "The CNN model, trained on a subset of ~ 10,000 images, achieves reasonable performance (~0.80-0.85 accuracy, ~0.85 AUC). For better results, I could train on the fulldataset."
   ]
  },
  {
   "cell_type": "markdown",
   "id": "a5ae89ef-549e-45dc-8037-84d19b059ee8",
   "metadata": {},
   "source": [
    "#### GitHub Repository Link\n",
    "https://github.com/Inception1995/5511-Week-3"
   ]
  }
 ],
 "metadata": {
  "kernelspec": {
   "display_name": "Python 3 (ipykernel)",
   "language": "python",
   "name": "python3"
  },
  "language_info": {
   "codemirror_mode": {
    "name": "ipython",
    "version": 3
   },
   "file_extension": ".py",
   "mimetype": "text/x-python",
   "name": "python",
   "nbconvert_exporter": "python",
   "pygments_lexer": "ipython3",
   "version": "3.12.0"
  }
 },
 "nbformat": 4,
 "nbformat_minor": 5
}
